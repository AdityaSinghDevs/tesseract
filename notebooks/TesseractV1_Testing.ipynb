{
  "nbformat": 4,
  "nbformat_minor": 0,
  "metadata": {
    "colab": {
      "provenance": [],
      "gpuType": "T4",
      "authorship_tag": "ABX9TyO4JlbJ+SA2S0C42wGJKI37",
      "include_colab_link": true
    },
    "kernelspec": {
      "name": "python3",
      "display_name": "Python 3"
    },
    "language_info": {
      "name": "python"
    },
    "accelerator": "GPU"
  },
  "cells": [
    {
      "cell_type": "markdown",
      "metadata": {
        "id": "view-in-github",
        "colab_type": "text"
      },
      "source": [
        "<a href=\"https://colab.research.google.com/github/AdityaSinghDevs/tesseract/blob/main/notebooks/TesseractV1_Testing.ipynb\" target=\"_parent\"><img src=\"https://colab.research.google.com/assets/colab-badge.svg\" alt=\"Open In Colab\"/></a>"
      ]
    },
    {
      "cell_type": "markdown",
      "source": [],
      "metadata": {
        "id": "oDd5hjYxIAJn"
      }
    },
    {
      "cell_type": "code",
      "execution_count": null,
      "metadata": {
        "colab": {
          "base_uri": "https://localhost:8080/"
        },
        "id": "077RSHV9CWpy",
        "outputId": "18836019-2db0-4fe1-d23e-28d0c5d0cf78"
      },
      "outputs": [
        {
          "output_type": "stream",
          "name": "stdout",
          "text": [
            "Cloning into 'tesseract'...\n",
            "remote: Enumerating objects: 261, done.\u001b[K\n",
            "remote: Counting objects: 100% (261/261), done.\u001b[K\n",
            "remote: Compressing objects: 100% (211/211), done.\u001b[K\n",
            "remote: Total 261 (delta 72), reused 226 (delta 40), pack-reused 0 (from 0)\u001b[K\n",
            "Receiving objects: 100% (261/261), 6.83 MiB | 17.49 MiB/s, done.\n",
            "Resolving deltas: 100% (72/72), done.\n"
          ]
        }
      ],
      "source": [
        "!git clone https://github.com/AdityaSinghDevs/tesseract"
      ]
    },
    {
      "cell_type": "code",
      "source": [
        "%cd /content/tesseract\n",
        "!pip install -r requirements.txt -q"
      ],
      "metadata": {
        "colab": {
          "base_uri": "https://localhost:8080/"
        },
        "collapsed": true,
        "id": "4-dkmdKFCr0A",
        "outputId": "dce8a4a3-442d-4cb1-9327-cfc4dc8aa69c"
      },
      "execution_count": null,
      "outputs": [
        {
          "output_type": "stream",
          "name": "stdout",
          "text": [
            "/content/tesseract\n",
            "  Preparing metadata (setup.py) ... \u001b[?25l\u001b[?25hdone\n",
            "\u001b[2K     \u001b[90m━━━━━━━━━━━━━━━━━━━━━━━━━━━━━━━━━━━━━━━━\u001b[0m \u001b[32m87.2/87.2 kB\u001b[0m \u001b[31m7.5 MB/s\u001b[0m eta \u001b[36m0:00:00\u001b[0m\n",
            "\u001b[?25h  Preparing metadata (setup.py) ... \u001b[?25l\u001b[?25hdone\n",
            "\u001b[2K   \u001b[90m━━━━━━━━━━━━━━━━━━━━━━━━━━━━━━━━━━━━━━━━\u001b[0m \u001b[32m363.4/363.4 MB\u001b[0m \u001b[31m4.5 MB/s\u001b[0m eta \u001b[36m0:00:00\u001b[0m\n",
            "\u001b[2K   \u001b[90m━━━━━━━━━━━━━━━━━━━━━━━━━━━━━━━━━━━━━━━━\u001b[0m \u001b[32m13.8/13.8 MB\u001b[0m \u001b[31m123.1 MB/s\u001b[0m eta \u001b[36m0:00:00\u001b[0m\n",
            "\u001b[2K   \u001b[90m━━━━━━━━━━━━━━━━━━━━━━━━━━━━━━━━━━━━━━━━\u001b[0m \u001b[32m24.6/24.6 MB\u001b[0m \u001b[31m94.5 MB/s\u001b[0m eta \u001b[36m0:00:00\u001b[0m\n",
            "\u001b[2K   \u001b[90m━━━━━━━━━━━━━━━━━━━━━━━━━━━━━━━━━━━━━━━━\u001b[0m \u001b[32m883.7/883.7 kB\u001b[0m \u001b[31m54.6 MB/s\u001b[0m eta \u001b[36m0:00:00\u001b[0m\n",
            "\u001b[2K   \u001b[90m━━━━━━━━━━━━━━━━━━━━━━━━━━━━━━━━━━━━━━━━\u001b[0m \u001b[32m664.8/664.8 MB\u001b[0m \u001b[31m1.3 MB/s\u001b[0m eta \u001b[36m0:00:00\u001b[0m\n",
            "\u001b[2K   \u001b[90m━━━━━━━━━━━━━━━━━━━━━━━━━━━━━━━━━━━━━━━━\u001b[0m \u001b[32m211.5/211.5 MB\u001b[0m \u001b[31m5.5 MB/s\u001b[0m eta \u001b[36m0:00:00\u001b[0m\n",
            "\u001b[2K   \u001b[90m━━━━━━━━━━━━━━━━━━━━━━━━━━━━━━━━━━━━━━━━\u001b[0m \u001b[32m56.3/56.3 MB\u001b[0m \u001b[31m15.4 MB/s\u001b[0m eta \u001b[36m0:00:00\u001b[0m\n",
            "\u001b[2K   \u001b[90m━━━━━━━━━━━━━━━━━━━━━━━━━━━━━━━━━━━━━━━━\u001b[0m \u001b[32m127.9/127.9 MB\u001b[0m \u001b[31m7.3 MB/s\u001b[0m eta \u001b[36m0:00:00\u001b[0m\n",
            "\u001b[2K   \u001b[90m━━━━━━━━━━━━━━━━━━━━━━━━━━━━━━━━━━━━━━━━\u001b[0m \u001b[32m207.5/207.5 MB\u001b[0m \u001b[31m5.4 MB/s\u001b[0m eta \u001b[36m0:00:00\u001b[0m\n",
            "\u001b[2K   \u001b[90m━━━━━━━━━━━━━━━━━━━━━━━━━━━━━━━━━━━━━━━━\u001b[0m \u001b[32m21.1/21.1 MB\u001b[0m \u001b[31m98.7 MB/s\u001b[0m eta \u001b[36m0:00:00\u001b[0m\n",
            "\u001b[2K   \u001b[90m━━━━━━━━━━━━━━━━━━━━━━━━━━━━━━━━━━━━━━━━\u001b[0m \u001b[32m422.8/422.8 kB\u001b[0m \u001b[31m32.6 MB/s\u001b[0m eta \u001b[36m0:00:00\u001b[0m\n",
            "\u001b[2K   \u001b[90m━━━━━━━━━━━━━━━━━━━━━━━━━━━━━━━━━━━━━━━━\u001b[0m \u001b[32m709.0/709.0 kB\u001b[0m \u001b[31m49.5 MB/s\u001b[0m eta \u001b[36m0:00:00\u001b[0m\n",
            "\u001b[2K   \u001b[90m━━━━━━━━━━━━━━━━━━━━━━━━━━━━━━━━━━━━━━━━\u001b[0m \u001b[32m44.8/44.8 kB\u001b[0m \u001b[31m4.0 MB/s\u001b[0m eta \u001b[36m0:00:00\u001b[0m\n",
            "\u001b[2K   \u001b[90m━━━━━━━━━━━━━━━━━━━━━━━━━━━━━━━━━━━━━━━━\u001b[0m \u001b[32m1.6/1.6 MB\u001b[0m \u001b[31m81.8 MB/s\u001b[0m eta \u001b[36m0:00:00\u001b[0m\n",
            "\u001b[?25h  Building wheel for fire (setup.py) ... \u001b[?25l\u001b[?25hdone\n",
            "  Building wheel for clip (setup.py) ... \u001b[?25l\u001b[?25hdone\n"
          ]
        }
      ]
    },
    {
      "cell_type": "code",
      "source": [
        "!python cli.py -p \"A race car\""
      ],
      "metadata": {
        "colab": {
          "base_uri": "https://localhost:8080/"
        },
        "id": "7TCbWqx8C3J9",
        "outputId": "bcd2fdbe-e79a-4f94-ca1e-0aaf2d19bf3f"
      },
      "execution_count": 17,
      "outputs": [
        {
          "output_type": "stream",
          "name": "stdout",
          "text": [
            "__main__- INFO - CLI execution started\n",
            "main- INFO - Starting generation..\n",
            "main- INFO - Initializing Tesseract pipeline\n",
            "tesseract.core.model_loader- INFO - CUDA found, device : Tesla T4\n",
            "main- INFO - Using device cuda\n",
            "/content/tesseract/tesseract/core/shap_e/models/nn/checkpoint.py:31: FutureWarning: `torch.cuda.amp.custom_fwd(args...)` is deprecated. Please use `torch.amp.custom_fwd(args..., device_type='cuda')` instead.\n",
            "  @custom_fwd\n",
            "/content/tesseract/tesseract/core/shap_e/models/nn/checkpoint.py:43: FutureWarning: `torch.cuda.amp.custom_bwd(args...)` is deprecated. Please use `torch.amp.custom_bwd(args..., device_type='cuda')` instead.\n",
            "  @custom_bwd\n",
            "/content/tesseract/tesseract/core/shap_e/models/nn/checkpoint.py:61: FutureWarning: `torch.cuda.amp.custom_fwd(args...)` is deprecated. Please use `torch.amp.custom_fwd(args..., device_type='cuda')` instead.\n",
            "  @custom_fwd\n",
            "/content/tesseract/tesseract/core/shap_e/models/nn/checkpoint.py:86: FutureWarning: `torch.cuda.amp.custom_bwd(args...)` is deprecated. Please use `torch.amp.custom_bwd(args..., device_type='cuda')` instead.\n",
            "  @custom_bwd\n",
            "tesseract.core.model_loader- INFO - Transmitter model 'transmitter' loaded on cuda\n",
            "tesseract.core.model_loader- INFO - Base model loaded : text300M loaded on cuda\n",
            "tesseract.core.model_loader- INFO - Diffusion process intitiated...\n",
            "main- INFO - All models loaded successfully.\n",
            "main- INFO - Pipeline initiated successfully and ready for generation.\n",
            "tesseract.core.generator- INFO - Inputs Verified, Starting latent generation from prompt : 'A race car'\n",
            "100% 100/100 [03:43<00:00,  2.24s/it]\n",
            "tesseract.core.generator- INFO - LATENTS LOADED SUCCESFULLY FOR PROMPT : 'A race car'\n",
            "tesseract.core.generator- INFO - Latents saved successfully at tesseract/outputs/latents/generated_mesh_latents.pt\n",
            "tesseract.core.mesh_util- INFO - Inputs for decoding Validated Successfully\n",
            "/content/tesseract/tesseract/core/shap_e/models/stf/renderer.py:286: UserWarning: exception rendering with PyTorch3D: No module named 'pytorch3d'\n",
            "  warnings.warn(f\"exception rendering with PyTorch3D: {exc}\")\n",
            "/content/tesseract/tesseract/core/shap_e/models/stf/renderer.py:287: UserWarning: falling back on native PyTorch renderer, which does not support full gradients\n",
            "  warnings.warn(\n",
            "tesseract.core.mesh_util- INFO - Latents decoded successfully into meshes..\n",
            "tesseract.core.mesh_util- INFO - Latents decoded successfully into meshes..\n",
            "tesseract.core.mesh_util- INFO - Latents decoded successfully into meshes..\n",
            "tesseract.core.mesh_util- INFO - Latents decoded successfully into meshes..\n",
            "tesseract.core.mesh_util- INFO - Latents decoded successfully into meshes..\n",
            "tesseract.core.mesh_util- INFO - Inputs for saving mesh validated successfully\n",
            "tesseract.core.mesh_util- INFO - Created/Found output directory at : tesseract/outputs\n",
            "tesseract.core.mesh_util- INFO - Saving generated_mesh to tesseract/outputs/generated_mesh_0.ply\n",
            "tesseract.core.mesh_util- INFO - Exported 0 successfully to tesseract/outputs/generated_mesh_0.ply\n",
            "tesseract.core.mesh_util- INFO - Saving generated_mesh to tesseract/outputs/generated_mesh_1.ply\n",
            "tesseract.core.mesh_util- INFO - Exported 1 successfully to tesseract/outputs/generated_mesh_1.ply\n",
            "tesseract.core.mesh_util- INFO - Saving generated_mesh to tesseract/outputs/generated_mesh_2.ply\n",
            "tesseract.core.mesh_util- INFO - Exported 2 successfully to tesseract/outputs/generated_mesh_2.ply\n",
            "tesseract.core.mesh_util- INFO - Saving generated_mesh to tesseract/outputs/generated_mesh_3.ply\n",
            "tesseract.core.mesh_util- INFO - Exported 3 successfully to tesseract/outputs/generated_mesh_3.ply\n",
            "tesseract.core.mesh_util- INFO - Saving generated_mesh to tesseract/outputs/generated_mesh_4.ply\n",
            "tesseract.core.mesh_util- INFO - Exported 4 successfully to tesseract/outputs/generated_mesh_4.ply\n",
            "main- INFO - Generation complete for prompt : A race car, saved 5 files.\n",
            "\n",
            " Generated mesh for prompt : 'A race car'\n",
            "\n",
            " Saved files : ['tesseract/outputs/generated_mesh_0.ply', 'tesseract/outputs/generated_mesh_1.ply', 'tesseract/outputs/generated_mesh_2.ply', 'tesseract/outputs/generated_mesh_3.ply', 'tesseract/outputs/generated_mesh_4.ply']\n",
            "\n"
          ]
        }
      ]
    },
    {
      "cell_type": "code",
      "source": [
        "!zip -r output.zip /content/tesseract/tesseract/outputs\n",
        "from google.colab import files\n",
        "files.download('output.zip')"
      ],
      "metadata": {
        "colab": {
          "base_uri": "https://localhost:8080/",
          "height": 163
        },
        "id": "Cgkntg5rS8AS",
        "outputId": "51a18de2-8d25-49d4-ca49-e1edb5a8c2bd"
      },
      "execution_count": 20,
      "outputs": [
        {
          "output_type": "stream",
          "name": "stdout",
          "text": [
            "updating: content/tesseract/tesseract/outputs/ (stored 0%)\n",
            "updating: content/tesseract/tesseract/outputs/generated_mesh_1.ply (deflated 59%)\n",
            "updating: content/tesseract/tesseract/outputs/generated_mesh_3.ply (deflated 61%)\n",
            "updating: content/tesseract/tesseract/outputs/generated_mesh_0.ply (deflated 61%)\n",
            "updating: content/tesseract/tesseract/outputs/latents/ (stored 0%)\n",
            "updating: content/tesseract/tesseract/outputs/latents/generated_mesh_latents.pt (deflated 48%)\n",
            "updating: content/tesseract/tesseract/outputs/generated_mesh_4.ply (deflated 60%)\n",
            "updating: content/tesseract/tesseract/outputs/generated_mesh_2.ply (deflated 60%)\n"
          ]
        },
        {
          "output_type": "display_data",
          "data": {
            "text/plain": [
              "<IPython.core.display.Javascript object>"
            ],
            "application/javascript": [
              "\n",
              "    async function download(id, filename, size) {\n",
              "      if (!google.colab.kernel.accessAllowed) {\n",
              "        return;\n",
              "      }\n",
              "      const div = document.createElement('div');\n",
              "      const label = document.createElement('label');\n",
              "      label.textContent = `Downloading \"${filename}\": `;\n",
              "      div.appendChild(label);\n",
              "      const progress = document.createElement('progress');\n",
              "      progress.max = size;\n",
              "      div.appendChild(progress);\n",
              "      document.body.appendChild(div);\n",
              "\n",
              "      const buffers = [];\n",
              "      let downloaded = 0;\n",
              "\n",
              "      const channel = await google.colab.kernel.comms.open(id);\n",
              "      // Send a message to notify the kernel that we're ready.\n",
              "      channel.send({})\n",
              "\n",
              "      for await (const message of channel.messages) {\n",
              "        // Send a message to notify the kernel that we're ready.\n",
              "        channel.send({})\n",
              "        if (message.buffers) {\n",
              "          for (const buffer of message.buffers) {\n",
              "            buffers.push(buffer);\n",
              "            downloaded += buffer.byteLength;\n",
              "            progress.value = downloaded;\n",
              "          }\n",
              "        }\n",
              "      }\n",
              "      const blob = new Blob(buffers, {type: 'application/binary'});\n",
              "      const a = document.createElement('a');\n",
              "      a.href = window.URL.createObjectURL(blob);\n",
              "      a.download = filename;\n",
              "      div.appendChild(a);\n",
              "      a.click();\n",
              "      div.remove();\n",
              "    }\n",
              "  "
            ]
          },
          "metadata": {}
        },
        {
          "output_type": "display_data",
          "data": {
            "text/plain": [
              "<IPython.core.display.Javascript object>"
            ],
            "application/javascript": [
              "download(\"download_6cb08af0-50a4-43b3-b46e-b98d77a2a01b\", \"output.zip\", 13643523)"
            ]
          },
          "metadata": {}
        }
      ]
    },
    {
      "cell_type": "code",
      "source": [
        "!python cli.py --prompt \"A race car\" --dry-run"
      ],
      "metadata": {
        "colab": {
          "base_uri": "https://localhost:8080/"
        },
        "id": "LdWHqpttXzxG",
        "outputId": "b61a749f-978a-4d69-ceaa-437ae4f9fedc"
      },
      "execution_count": 16,
      "outputs": [
        {
          "output_type": "stream",
          "name": "stdout",
          "text": [
            "__main__- INFO - CLI execution started\n",
            "__main__- INFO - DRY-RUN: would generate mesh for prompt 'A race car'\n",
            "[DRY-RUN] Prompt: A race car → No files generated\n"
          ]
        }
      ]
    },
    {
      "cell_type": "markdown",
      "source": [],
      "metadata": {
        "id": "Gg4YfBqyYC2_"
      }
    }
  ]
}