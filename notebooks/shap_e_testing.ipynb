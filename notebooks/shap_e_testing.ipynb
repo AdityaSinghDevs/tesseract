{
  "nbformat": 4,
  "nbformat_minor": 0,
  "metadata": {
    "colab": {
      "provenance": [],
      "gpuType": "T4"
    },
    "kernelspec": {
      "name": "python3",
      "display_name": "Python 3"
    },
    "language_info": {
      "name": "python"
    },
    "accelerator": "GPU",
    "widgets": {
      "application/vnd.jupyter.widget-state+json": {
        "a9b3964c42c04715b914c67fff5499f2": {
          "model_module": "@jupyter-widgets/controls",
          "model_name": "HBoxModel",
          "model_module_version": "1.5.0",
          "state": {
            "_dom_classes": [],
            "_model_module": "@jupyter-widgets/controls",
            "_model_module_version": "1.5.0",
            "_model_name": "HBoxModel",
            "_view_count": null,
            "_view_module": "@jupyter-widgets/controls",
            "_view_module_version": "1.5.0",
            "_view_name": "HBoxView",
            "box_style": "",
            "children": [
              "IPY_MODEL_84641d419b20415282e9431d19a1b71a",
              "IPY_MODEL_7b0d609f6c5041b5a11f748dd5dc5756",
              "IPY_MODEL_9e96eff852b7472088ff6fefdd7e06c7"
            ],
            "layout": "IPY_MODEL_ecb851c865514f1dbad0a7131df38ba7"
          }
        },
        "84641d419b20415282e9431d19a1b71a": {
          "model_module": "@jupyter-widgets/controls",
          "model_name": "HTMLModel",
          "model_module_version": "1.5.0",
          "state": {
            "_dom_classes": [],
            "_model_module": "@jupyter-widgets/controls",
            "_model_module_version": "1.5.0",
            "_model_name": "HTMLModel",
            "_view_count": null,
            "_view_module": "@jupyter-widgets/controls",
            "_view_module_version": "1.5.0",
            "_view_name": "HTMLView",
            "description": "",
            "description_tooltip": null,
            "layout": "IPY_MODEL_ef68d26daea94e488daf0b7ddd7d68c9",
            "placeholder": "​",
            "style": "IPY_MODEL_e1ac8fb306894e1f92310bb795805861",
            "value": "100%"
          }
        },
        "7b0d609f6c5041b5a11f748dd5dc5756": {
          "model_module": "@jupyter-widgets/controls",
          "model_name": "FloatProgressModel",
          "model_module_version": "1.5.0",
          "state": {
            "_dom_classes": [],
            "_model_module": "@jupyter-widgets/controls",
            "_model_module_version": "1.5.0",
            "_model_name": "FloatProgressModel",
            "_view_count": null,
            "_view_module": "@jupyter-widgets/controls",
            "_view_module_version": "1.5.0",
            "_view_name": "ProgressView",
            "bar_style": "success",
            "description": "",
            "description_tooltip": null,
            "layout": "IPY_MODEL_109cb9cbeae44eda894550edbc292db2",
            "max": 1776048343,
            "min": 0,
            "orientation": "horizontal",
            "style": "IPY_MODEL_94d66b8ab1c84b39a6cd97f9fa224a45",
            "value": 1776048343
          }
        },
        "9e96eff852b7472088ff6fefdd7e06c7": {
          "model_module": "@jupyter-widgets/controls",
          "model_name": "HTMLModel",
          "model_module_version": "1.5.0",
          "state": {
            "_dom_classes": [],
            "_model_module": "@jupyter-widgets/controls",
            "_model_module_version": "1.5.0",
            "_model_name": "HTMLModel",
            "_view_count": null,
            "_view_module": "@jupyter-widgets/controls",
            "_view_module_version": "1.5.0",
            "_view_name": "HTMLView",
            "description": "",
            "description_tooltip": null,
            "layout": "IPY_MODEL_7bda3dda781e4c4ea06074d76102766f",
            "placeholder": "​",
            "style": "IPY_MODEL_03b26e86efab402fb7f41d3e57be6953",
            "value": " 1.78G/1.78G [02:42&lt;00:00, 6.44MiB/s]"
          }
        },
        "ecb851c865514f1dbad0a7131df38ba7": {
          "model_module": "@jupyter-widgets/base",
          "model_name": "LayoutModel",
          "model_module_version": "1.2.0",
          "state": {
            "_model_module": "@jupyter-widgets/base",
            "_model_module_version": "1.2.0",
            "_model_name": "LayoutModel",
            "_view_count": null,
            "_view_module": "@jupyter-widgets/base",
            "_view_module_version": "1.2.0",
            "_view_name": "LayoutView",
            "align_content": null,
            "align_items": null,
            "align_self": null,
            "border": null,
            "bottom": null,
            "display": null,
            "flex": null,
            "flex_flow": null,
            "grid_area": null,
            "grid_auto_columns": null,
            "grid_auto_flow": null,
            "grid_auto_rows": null,
            "grid_column": null,
            "grid_gap": null,
            "grid_row": null,
            "grid_template_areas": null,
            "grid_template_columns": null,
            "grid_template_rows": null,
            "height": null,
            "justify_content": null,
            "justify_items": null,
            "left": null,
            "margin": null,
            "max_height": null,
            "max_width": null,
            "min_height": null,
            "min_width": null,
            "object_fit": null,
            "object_position": null,
            "order": null,
            "overflow": null,
            "overflow_x": null,
            "overflow_y": null,
            "padding": null,
            "right": null,
            "top": null,
            "visibility": null,
            "width": null
          }
        },
        "ef68d26daea94e488daf0b7ddd7d68c9": {
          "model_module": "@jupyter-widgets/base",
          "model_name": "LayoutModel",
          "model_module_version": "1.2.0",
          "state": {
            "_model_module": "@jupyter-widgets/base",
            "_model_module_version": "1.2.0",
            "_model_name": "LayoutModel",
            "_view_count": null,
            "_view_module": "@jupyter-widgets/base",
            "_view_module_version": "1.2.0",
            "_view_name": "LayoutView",
            "align_content": null,
            "align_items": null,
            "align_self": null,
            "border": null,
            "bottom": null,
            "display": null,
            "flex": null,
            "flex_flow": null,
            "grid_area": null,
            "grid_auto_columns": null,
            "grid_auto_flow": null,
            "grid_auto_rows": null,
            "grid_column": null,
            "grid_gap": null,
            "grid_row": null,
            "grid_template_areas": null,
            "grid_template_columns": null,
            "grid_template_rows": null,
            "height": null,
            "justify_content": null,
            "justify_items": null,
            "left": null,
            "margin": null,
            "max_height": null,
            "max_width": null,
            "min_height": null,
            "min_width": null,
            "object_fit": null,
            "object_position": null,
            "order": null,
            "overflow": null,
            "overflow_x": null,
            "overflow_y": null,
            "padding": null,
            "right": null,
            "top": null,
            "visibility": null,
            "width": null
          }
        },
        "e1ac8fb306894e1f92310bb795805861": {
          "model_module": "@jupyter-widgets/controls",
          "model_name": "DescriptionStyleModel",
          "model_module_version": "1.5.0",
          "state": {
            "_model_module": "@jupyter-widgets/controls",
            "_model_module_version": "1.5.0",
            "_model_name": "DescriptionStyleModel",
            "_view_count": null,
            "_view_module": "@jupyter-widgets/base",
            "_view_module_version": "1.2.0",
            "_view_name": "StyleView",
            "description_width": ""
          }
        },
        "109cb9cbeae44eda894550edbc292db2": {
          "model_module": "@jupyter-widgets/base",
          "model_name": "LayoutModel",
          "model_module_version": "1.2.0",
          "state": {
            "_model_module": "@jupyter-widgets/base",
            "_model_module_version": "1.2.0",
            "_model_name": "LayoutModel",
            "_view_count": null,
            "_view_module": "@jupyter-widgets/base",
            "_view_module_version": "1.2.0",
            "_view_name": "LayoutView",
            "align_content": null,
            "align_items": null,
            "align_self": null,
            "border": null,
            "bottom": null,
            "display": null,
            "flex": null,
            "flex_flow": null,
            "grid_area": null,
            "grid_auto_columns": null,
            "grid_auto_flow": null,
            "grid_auto_rows": null,
            "grid_column": null,
            "grid_gap": null,
            "grid_row": null,
            "grid_template_areas": null,
            "grid_template_columns": null,
            "grid_template_rows": null,
            "height": null,
            "justify_content": null,
            "justify_items": null,
            "left": null,
            "margin": null,
            "max_height": null,
            "max_width": null,
            "min_height": null,
            "min_width": null,
            "object_fit": null,
            "object_position": null,
            "order": null,
            "overflow": null,
            "overflow_x": null,
            "overflow_y": null,
            "padding": null,
            "right": null,
            "top": null,
            "visibility": null,
            "width": null
          }
        },
        "94d66b8ab1c84b39a6cd97f9fa224a45": {
          "model_module": "@jupyter-widgets/controls",
          "model_name": "ProgressStyleModel",
          "model_module_version": "1.5.0",
          "state": {
            "_model_module": "@jupyter-widgets/controls",
            "_model_module_version": "1.5.0",
            "_model_name": "ProgressStyleModel",
            "_view_count": null,
            "_view_module": "@jupyter-widgets/base",
            "_view_module_version": "1.2.0",
            "_view_name": "StyleView",
            "bar_color": null,
            "description_width": ""
          }
        },
        "7bda3dda781e4c4ea06074d76102766f": {
          "model_module": "@jupyter-widgets/base",
          "model_name": "LayoutModel",
          "model_module_version": "1.2.0",
          "state": {
            "_model_module": "@jupyter-widgets/base",
            "_model_module_version": "1.2.0",
            "_model_name": "LayoutModel",
            "_view_count": null,
            "_view_module": "@jupyter-widgets/base",
            "_view_module_version": "1.2.0",
            "_view_name": "LayoutView",
            "align_content": null,
            "align_items": null,
            "align_self": null,
            "border": null,
            "bottom": null,
            "display": null,
            "flex": null,
            "flex_flow": null,
            "grid_area": null,
            "grid_auto_columns": null,
            "grid_auto_flow": null,
            "grid_auto_rows": null,
            "grid_column": null,
            "grid_gap": null,
            "grid_row": null,
            "grid_template_areas": null,
            "grid_template_columns": null,
            "grid_template_rows": null,
            "height": null,
            "justify_content": null,
            "justify_items": null,
            "left": null,
            "margin": null,
            "max_height": null,
            "max_width": null,
            "min_height": null,
            "min_width": null,
            "object_fit": null,
            "object_position": null,
            "order": null,
            "overflow": null,
            "overflow_x": null,
            "overflow_y": null,
            "padding": null,
            "right": null,
            "top": null,
            "visibility": null,
            "width": null
          }
        },
        "03b26e86efab402fb7f41d3e57be6953": {
          "model_module": "@jupyter-widgets/controls",
          "model_name": "DescriptionStyleModel",
          "model_module_version": "1.5.0",
          "state": {
            "_model_module": "@jupyter-widgets/controls",
            "_model_module_version": "1.5.0",
            "_model_name": "DescriptionStyleModel",
            "_view_count": null,
            "_view_module": "@jupyter-widgets/base",
            "_view_module_version": "1.2.0",
            "_view_name": "StyleView",
            "description_width": ""
          }
        },
        "fbcfdf16512543878cb0ba5d6edbc0e6": {
          "model_module": "@jupyter-widgets/controls",
          "model_name": "HBoxModel",
          "model_module_version": "1.5.0",
          "state": {
            "_dom_classes": [],
            "_model_module": "@jupyter-widgets/controls",
            "_model_module_version": "1.5.0",
            "_model_name": "HBoxModel",
            "_view_count": null,
            "_view_module": "@jupyter-widgets/controls",
            "_view_module_version": "1.5.0",
            "_view_name": "HBoxView",
            "box_style": "",
            "children": [
              "IPY_MODEL_520d3be4ced94aeb8589fbcfa36323f6",
              "IPY_MODEL_4d9092fc3e5c4b2e96850d68265dc952",
              "IPY_MODEL_9013954cde52444c8e59a8fc297f98c3"
            ],
            "layout": "IPY_MODEL_4d3d661dde35413aa27f6ce040ac18fe"
          }
        },
        "520d3be4ced94aeb8589fbcfa36323f6": {
          "model_module": "@jupyter-widgets/controls",
          "model_name": "HTMLModel",
          "model_module_version": "1.5.0",
          "state": {
            "_dom_classes": [],
            "_model_module": "@jupyter-widgets/controls",
            "_model_module_version": "1.5.0",
            "_model_name": "HTMLModel",
            "_view_count": null,
            "_view_module": "@jupyter-widgets/controls",
            "_view_module_version": "1.5.0",
            "_view_name": "HTMLView",
            "description": "",
            "description_tooltip": null,
            "layout": "IPY_MODEL_06f1e3b69cfc43159bcf747b2b802df9",
            "placeholder": "​",
            "style": "IPY_MODEL_b977a6289b70423087ed9060ccef81cf",
            "value": "100%"
          }
        },
        "4d9092fc3e5c4b2e96850d68265dc952": {
          "model_module": "@jupyter-widgets/controls",
          "model_name": "FloatProgressModel",
          "model_module_version": "1.5.0",
          "state": {
            "_dom_classes": [],
            "_model_module": "@jupyter-widgets/controls",
            "_model_module_version": "1.5.0",
            "_model_name": "FloatProgressModel",
            "_view_count": null,
            "_view_module": "@jupyter-widgets/controls",
            "_view_module_version": "1.5.0",
            "_view_name": "ProgressView",
            "bar_style": "success",
            "description": "",
            "description_tooltip": null,
            "layout": "IPY_MODEL_98dd1b6ab49e4673a907126e0251f1e1",
            "max": 1262868003,
            "min": 0,
            "orientation": "horizontal",
            "style": "IPY_MODEL_046e6eaebb4346de820a7f432522bfe6",
            "value": 1262868003
          }
        },
        "9013954cde52444c8e59a8fc297f98c3": {
          "model_module": "@jupyter-widgets/controls",
          "model_name": "HTMLModel",
          "model_module_version": "1.5.0",
          "state": {
            "_dom_classes": [],
            "_model_module": "@jupyter-widgets/controls",
            "_model_module_version": "1.5.0",
            "_model_name": "HTMLModel",
            "_view_count": null,
            "_view_module": "@jupyter-widgets/controls",
            "_view_module_version": "1.5.0",
            "_view_name": "HTMLView",
            "description": "",
            "description_tooltip": null,
            "layout": "IPY_MODEL_824b8ab46bbb4767872b0b83e10a1c1e",
            "placeholder": "​",
            "style": "IPY_MODEL_a7207280854244beb1ca007caf34e790",
            "value": " 1.26G/1.26G [01:38&lt;00:00, 17.2MiB/s]"
          }
        },
        "4d3d661dde35413aa27f6ce040ac18fe": {
          "model_module": "@jupyter-widgets/base",
          "model_name": "LayoutModel",
          "model_module_version": "1.2.0",
          "state": {
            "_model_module": "@jupyter-widgets/base",
            "_model_module_version": "1.2.0",
            "_model_name": "LayoutModel",
            "_view_count": null,
            "_view_module": "@jupyter-widgets/base",
            "_view_module_version": "1.2.0",
            "_view_name": "LayoutView",
            "align_content": null,
            "align_items": null,
            "align_self": null,
            "border": null,
            "bottom": null,
            "display": null,
            "flex": null,
            "flex_flow": null,
            "grid_area": null,
            "grid_auto_columns": null,
            "grid_auto_flow": null,
            "grid_auto_rows": null,
            "grid_column": null,
            "grid_gap": null,
            "grid_row": null,
            "grid_template_areas": null,
            "grid_template_columns": null,
            "grid_template_rows": null,
            "height": null,
            "justify_content": null,
            "justify_items": null,
            "left": null,
            "margin": null,
            "max_height": null,
            "max_width": null,
            "min_height": null,
            "min_width": null,
            "object_fit": null,
            "object_position": null,
            "order": null,
            "overflow": null,
            "overflow_x": null,
            "overflow_y": null,
            "padding": null,
            "right": null,
            "top": null,
            "visibility": null,
            "width": null
          }
        },
        "06f1e3b69cfc43159bcf747b2b802df9": {
          "model_module": "@jupyter-widgets/base",
          "model_name": "LayoutModel",
          "model_module_version": "1.2.0",
          "state": {
            "_model_module": "@jupyter-widgets/base",
            "_model_module_version": "1.2.0",
            "_model_name": "LayoutModel",
            "_view_count": null,
            "_view_module": "@jupyter-widgets/base",
            "_view_module_version": "1.2.0",
            "_view_name": "LayoutView",
            "align_content": null,
            "align_items": null,
            "align_self": null,
            "border": null,
            "bottom": null,
            "display": null,
            "flex": null,
            "flex_flow": null,
            "grid_area": null,
            "grid_auto_columns": null,
            "grid_auto_flow": null,
            "grid_auto_rows": null,
            "grid_column": null,
            "grid_gap": null,
            "grid_row": null,
            "grid_template_areas": null,
            "grid_template_columns": null,
            "grid_template_rows": null,
            "height": null,
            "justify_content": null,
            "justify_items": null,
            "left": null,
            "margin": null,
            "max_height": null,
            "max_width": null,
            "min_height": null,
            "min_width": null,
            "object_fit": null,
            "object_position": null,
            "order": null,
            "overflow": null,
            "overflow_x": null,
            "overflow_y": null,
            "padding": null,
            "right": null,
            "top": null,
            "visibility": null,
            "width": null
          }
        },
        "b977a6289b70423087ed9060ccef81cf": {
          "model_module": "@jupyter-widgets/controls",
          "model_name": "DescriptionStyleModel",
          "model_module_version": "1.5.0",
          "state": {
            "_model_module": "@jupyter-widgets/controls",
            "_model_module_version": "1.5.0",
            "_model_name": "DescriptionStyleModel",
            "_view_count": null,
            "_view_module": "@jupyter-widgets/base",
            "_view_module_version": "1.2.0",
            "_view_name": "StyleView",
            "description_width": ""
          }
        },
        "98dd1b6ab49e4673a907126e0251f1e1": {
          "model_module": "@jupyter-widgets/base",
          "model_name": "LayoutModel",
          "model_module_version": "1.2.0",
          "state": {
            "_model_module": "@jupyter-widgets/base",
            "_model_module_version": "1.2.0",
            "_model_name": "LayoutModel",
            "_view_count": null,
            "_view_module": "@jupyter-widgets/base",
            "_view_module_version": "1.2.0",
            "_view_name": "LayoutView",
            "align_content": null,
            "align_items": null,
            "align_self": null,
            "border": null,
            "bottom": null,
            "display": null,
            "flex": null,
            "flex_flow": null,
            "grid_area": null,
            "grid_auto_columns": null,
            "grid_auto_flow": null,
            "grid_auto_rows": null,
            "grid_column": null,
            "grid_gap": null,
            "grid_row": null,
            "grid_template_areas": null,
            "grid_template_columns": null,
            "grid_template_rows": null,
            "height": null,
            "justify_content": null,
            "justify_items": null,
            "left": null,
            "margin": null,
            "max_height": null,
            "max_width": null,
            "min_height": null,
            "min_width": null,
            "object_fit": null,
            "object_position": null,
            "order": null,
            "overflow": null,
            "overflow_x": null,
            "overflow_y": null,
            "padding": null,
            "right": null,
            "top": null,
            "visibility": null,
            "width": null
          }
        },
        "046e6eaebb4346de820a7f432522bfe6": {
          "model_module": "@jupyter-widgets/controls",
          "model_name": "ProgressStyleModel",
          "model_module_version": "1.5.0",
          "state": {
            "_model_module": "@jupyter-widgets/controls",
            "_model_module_version": "1.5.0",
            "_model_name": "ProgressStyleModel",
            "_view_count": null,
            "_view_module": "@jupyter-widgets/base",
            "_view_module_version": "1.2.0",
            "_view_name": "StyleView",
            "bar_color": null,
            "description_width": ""
          }
        },
        "824b8ab46bbb4767872b0b83e10a1c1e": {
          "model_module": "@jupyter-widgets/base",
          "model_name": "LayoutModel",
          "model_module_version": "1.2.0",
          "state": {
            "_model_module": "@jupyter-widgets/base",
            "_model_module_version": "1.2.0",
            "_model_name": "LayoutModel",
            "_view_count": null,
            "_view_module": "@jupyter-widgets/base",
            "_view_module_version": "1.2.0",
            "_view_name": "LayoutView",
            "align_content": null,
            "align_items": null,
            "align_self": null,
            "border": null,
            "bottom": null,
            "display": null,
            "flex": null,
            "flex_flow": null,
            "grid_area": null,
            "grid_auto_columns": null,
            "grid_auto_flow": null,
            "grid_auto_rows": null,
            "grid_column": null,
            "grid_gap": null,
            "grid_row": null,
            "grid_template_areas": null,
            "grid_template_columns": null,
            "grid_template_rows": null,
            "height": null,
            "justify_content": null,
            "justify_items": null,
            "left": null,
            "margin": null,
            "max_height": null,
            "max_width": null,
            "min_height": null,
            "min_width": null,
            "object_fit": null,
            "object_position": null,
            "order": null,
            "overflow": null,
            "overflow_x": null,
            "overflow_y": null,
            "padding": null,
            "right": null,
            "top": null,
            "visibility": null,
            "width": null
          }
        },
        "a7207280854244beb1ca007caf34e790": {
          "model_module": "@jupyter-widgets/controls",
          "model_name": "DescriptionStyleModel",
          "model_module_version": "1.5.0",
          "state": {
            "_model_module": "@jupyter-widgets/controls",
            "_model_module_version": "1.5.0",
            "_model_name": "DescriptionStyleModel",
            "_view_count": null,
            "_view_module": "@jupyter-widgets/base",
            "_view_module_version": "1.2.0",
            "_view_name": "StyleView",
            "description_width": ""
          }
        },
        "c88f7a339ea1400688a20876830ddeed": {
          "model_module": "@jupyter-widgets/controls",
          "model_name": "HBoxModel",
          "model_module_version": "1.5.0",
          "state": {
            "_dom_classes": [],
            "_model_module": "@jupyter-widgets/controls",
            "_model_module_version": "1.5.0",
            "_model_name": "HBoxModel",
            "_view_count": null,
            "_view_module": "@jupyter-widgets/controls",
            "_view_module_version": "1.5.0",
            "_view_name": "HBoxView",
            "box_style": "",
            "children": [
              "IPY_MODEL_8b54bee1efd34701a9636144f9cd25fe",
              "IPY_MODEL_71923354f4a344ee98e172869d8f417e",
              "IPY_MODEL_d00cddc518444cef862ed2d049d49663"
            ],
            "layout": "IPY_MODEL_d0d0e602702245feb47ea9cf3a0a8b4d"
          }
        },
        "8b54bee1efd34701a9636144f9cd25fe": {
          "model_module": "@jupyter-widgets/controls",
          "model_name": "HTMLModel",
          "model_module_version": "1.5.0",
          "state": {
            "_dom_classes": [],
            "_model_module": "@jupyter-widgets/controls",
            "_model_module_version": "1.5.0",
            "_model_name": "HTMLModel",
            "_view_count": null,
            "_view_module": "@jupyter-widgets/controls",
            "_view_module_version": "1.5.0",
            "_view_name": "HTMLView",
            "description": "",
            "description_tooltip": null,
            "layout": "IPY_MODEL_7aaf01c2a0fa460daee9f05eaa6dfd72",
            "placeholder": "​",
            "style": "IPY_MODEL_2fb900c731524f0fa5f2cb0558f8e442",
            "value": "100%"
          }
        },
        "71923354f4a344ee98e172869d8f417e": {
          "model_module": "@jupyter-widgets/controls",
          "model_name": "FloatProgressModel",
          "model_module_version": "1.5.0",
          "state": {
            "_dom_classes": [],
            "_model_module": "@jupyter-widgets/controls",
            "_model_module_version": "1.5.0",
            "_model_name": "FloatProgressModel",
            "_view_count": null,
            "_view_module": "@jupyter-widgets/controls",
            "_view_module_version": "1.5.0",
            "_view_name": "ProgressView",
            "bar_style": "success",
            "description": "",
            "description_tooltip": null,
            "layout": "IPY_MODEL_00b7533d02194af882d7fd271fea334f",
            "max": 64,
            "min": 0,
            "orientation": "horizontal",
            "style": "IPY_MODEL_314815a94e0449ef8edade2376ea6b2e",
            "value": 64
          }
        },
        "d00cddc518444cef862ed2d049d49663": {
          "model_module": "@jupyter-widgets/controls",
          "model_name": "HTMLModel",
          "model_module_version": "1.5.0",
          "state": {
            "_dom_classes": [],
            "_model_module": "@jupyter-widgets/controls",
            "_model_module_version": "1.5.0",
            "_model_name": "HTMLModel",
            "_view_count": null,
            "_view_module": "@jupyter-widgets/controls",
            "_view_module_version": "1.5.0",
            "_view_name": "HTMLView",
            "description": "",
            "description_tooltip": null,
            "layout": "IPY_MODEL_152638b322ff4636ac151dfd8da4925b",
            "placeholder": "​",
            "style": "IPY_MODEL_c9ec80c55edf45f9aff48f9f855d1dc6",
            "value": " 64/64 [04:14&lt;00:00,  3.40s/it]"
          }
        },
        "d0d0e602702245feb47ea9cf3a0a8b4d": {
          "model_module": "@jupyter-widgets/base",
          "model_name": "LayoutModel",
          "model_module_version": "1.2.0",
          "state": {
            "_model_module": "@jupyter-widgets/base",
            "_model_module_version": "1.2.0",
            "_model_name": "LayoutModel",
            "_view_count": null,
            "_view_module": "@jupyter-widgets/base",
            "_view_module_version": "1.2.0",
            "_view_name": "LayoutView",
            "align_content": null,
            "align_items": null,
            "align_self": null,
            "border": null,
            "bottom": null,
            "display": null,
            "flex": null,
            "flex_flow": null,
            "grid_area": null,
            "grid_auto_columns": null,
            "grid_auto_flow": null,
            "grid_auto_rows": null,
            "grid_column": null,
            "grid_gap": null,
            "grid_row": null,
            "grid_template_areas": null,
            "grid_template_columns": null,
            "grid_template_rows": null,
            "height": null,
            "justify_content": null,
            "justify_items": null,
            "left": null,
            "margin": null,
            "max_height": null,
            "max_width": null,
            "min_height": null,
            "min_width": null,
            "object_fit": null,
            "object_position": null,
            "order": null,
            "overflow": null,
            "overflow_x": null,
            "overflow_y": null,
            "padding": null,
            "right": null,
            "top": null,
            "visibility": null,
            "width": null
          }
        },
        "7aaf01c2a0fa460daee9f05eaa6dfd72": {
          "model_module": "@jupyter-widgets/base",
          "model_name": "LayoutModel",
          "model_module_version": "1.2.0",
          "state": {
            "_model_module": "@jupyter-widgets/base",
            "_model_module_version": "1.2.0",
            "_model_name": "LayoutModel",
            "_view_count": null,
            "_view_module": "@jupyter-widgets/base",
            "_view_module_version": "1.2.0",
            "_view_name": "LayoutView",
            "align_content": null,
            "align_items": null,
            "align_self": null,
            "border": null,
            "bottom": null,
            "display": null,
            "flex": null,
            "flex_flow": null,
            "grid_area": null,
            "grid_auto_columns": null,
            "grid_auto_flow": null,
            "grid_auto_rows": null,
            "grid_column": null,
            "grid_gap": null,
            "grid_row": null,
            "grid_template_areas": null,
            "grid_template_columns": null,
            "grid_template_rows": null,
            "height": null,
            "justify_content": null,
            "justify_items": null,
            "left": null,
            "margin": null,
            "max_height": null,
            "max_width": null,
            "min_height": null,
            "min_width": null,
            "object_fit": null,
            "object_position": null,
            "order": null,
            "overflow": null,
            "overflow_x": null,
            "overflow_y": null,
            "padding": null,
            "right": null,
            "top": null,
            "visibility": null,
            "width": null
          }
        },
        "2fb900c731524f0fa5f2cb0558f8e442": {
          "model_module": "@jupyter-widgets/controls",
          "model_name": "DescriptionStyleModel",
          "model_module_version": "1.5.0",
          "state": {
            "_model_module": "@jupyter-widgets/controls",
            "_model_module_version": "1.5.0",
            "_model_name": "DescriptionStyleModel",
            "_view_count": null,
            "_view_module": "@jupyter-widgets/base",
            "_view_module_version": "1.2.0",
            "_view_name": "StyleView",
            "description_width": ""
          }
        },
        "00b7533d02194af882d7fd271fea334f": {
          "model_module": "@jupyter-widgets/base",
          "model_name": "LayoutModel",
          "model_module_version": "1.2.0",
          "state": {
            "_model_module": "@jupyter-widgets/base",
            "_model_module_version": "1.2.0",
            "_model_name": "LayoutModel",
            "_view_count": null,
            "_view_module": "@jupyter-widgets/base",
            "_view_module_version": "1.2.0",
            "_view_name": "LayoutView",
            "align_content": null,
            "align_items": null,
            "align_self": null,
            "border": null,
            "bottom": null,
            "display": null,
            "flex": null,
            "flex_flow": null,
            "grid_area": null,
            "grid_auto_columns": null,
            "grid_auto_flow": null,
            "grid_auto_rows": null,
            "grid_column": null,
            "grid_gap": null,
            "grid_row": null,
            "grid_template_areas": null,
            "grid_template_columns": null,
            "grid_template_rows": null,
            "height": null,
            "justify_content": null,
            "justify_items": null,
            "left": null,
            "margin": null,
            "max_height": null,
            "max_width": null,
            "min_height": null,
            "min_width": null,
            "object_fit": null,
            "object_position": null,
            "order": null,
            "overflow": null,
            "overflow_x": null,
            "overflow_y": null,
            "padding": null,
            "right": null,
            "top": null,
            "visibility": null,
            "width": null
          }
        },
        "314815a94e0449ef8edade2376ea6b2e": {
          "model_module": "@jupyter-widgets/controls",
          "model_name": "ProgressStyleModel",
          "model_module_version": "1.5.0",
          "state": {
            "_model_module": "@jupyter-widgets/controls",
            "_model_module_version": "1.5.0",
            "_model_name": "ProgressStyleModel",
            "_view_count": null,
            "_view_module": "@jupyter-widgets/base",
            "_view_module_version": "1.2.0",
            "_view_name": "StyleView",
            "bar_color": null,
            "description_width": ""
          }
        },
        "152638b322ff4636ac151dfd8da4925b": {
          "model_module": "@jupyter-widgets/base",
          "model_name": "LayoutModel",
          "model_module_version": "1.2.0",
          "state": {
            "_model_module": "@jupyter-widgets/base",
            "_model_module_version": "1.2.0",
            "_model_name": "LayoutModel",
            "_view_count": null,
            "_view_module": "@jupyter-widgets/base",
            "_view_module_version": "1.2.0",
            "_view_name": "LayoutView",
            "align_content": null,
            "align_items": null,
            "align_self": null,
            "border": null,
            "bottom": null,
            "display": null,
            "flex": null,
            "flex_flow": null,
            "grid_area": null,
            "grid_auto_columns": null,
            "grid_auto_flow": null,
            "grid_auto_rows": null,
            "grid_column": null,
            "grid_gap": null,
            "grid_row": null,
            "grid_template_areas": null,
            "grid_template_columns": null,
            "grid_template_rows": null,
            "height": null,
            "justify_content": null,
            "justify_items": null,
            "left": null,
            "margin": null,
            "max_height": null,
            "max_width": null,
            "min_height": null,
            "min_width": null,
            "object_fit": null,
            "object_position": null,
            "order": null,
            "overflow": null,
            "overflow_x": null,
            "overflow_y": null,
            "padding": null,
            "right": null,
            "top": null,
            "visibility": null,
            "width": null
          }
        },
        "c9ec80c55edf45f9aff48f9f855d1dc6": {
          "model_module": "@jupyter-widgets/controls",
          "model_name": "DescriptionStyleModel",
          "model_module_version": "1.5.0",
          "state": {
            "_model_module": "@jupyter-widgets/controls",
            "_model_module_version": "1.5.0",
            "_model_name": "DescriptionStyleModel",
            "_view_count": null,
            "_view_module": "@jupyter-widgets/base",
            "_view_module_version": "1.2.0",
            "_view_name": "StyleView",
            "description_width": ""
          }
        },
        "559299c0179b417cafe056e4a43969b7": {
          "model_module": "@jupyter-widgets/controls",
          "model_name": "HTMLModel",
          "model_module_version": "1.5.0",
          "state": {
            "_dom_classes": [],
            "_model_module": "@jupyter-widgets/controls",
            "_model_module_version": "1.5.0",
            "_model_name": "HTMLModel",
            "_view_count": null,
            "_view_module": "@jupyter-widgets/controls",
            "_view_module_version": "1.5.0",
            "_view_name": "HTMLView",
            "description": "",
            "description_tooltip": null,
            "layout": "IPY_MODEL_6a4df4d0434f44f9809a9045692c0eae",
            "placeholder": "​",
            "style": "IPY_MODEL_5837b9dac66749efa878a8624ac260fb",
            "value": "<img src=\"data:image/gif;base64,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\" />"
          }
        },
        "6a4df4d0434f44f9809a9045692c0eae": {
          "model_module": "@jupyter-widgets/base",
          "model_name": "LayoutModel",
          "model_module_version": "1.2.0",
          "state": {
            "_model_module": "@jupyter-widgets/base",
            "_model_module_version": "1.2.0",
            "_model_name": "LayoutModel",
            "_view_count": null,
            "_view_module": "@jupyter-widgets/base",
            "_view_module_version": "1.2.0",
            "_view_name": "LayoutView",
            "align_content": null,
            "align_items": null,
            "align_self": null,
            "border": null,
            "bottom": null,
            "display": null,
            "flex": null,
            "flex_flow": null,
            "grid_area": null,
            "grid_auto_columns": null,
            "grid_auto_flow": null,
            "grid_auto_rows": null,
            "grid_column": null,
            "grid_gap": null,
            "grid_row": null,
            "grid_template_areas": null,
            "grid_template_columns": null,
            "grid_template_rows": null,
            "height": null,
            "justify_content": null,
            "justify_items": null,
            "left": null,
            "margin": null,
            "max_height": null,
            "max_width": null,
            "min_height": null,
            "min_width": null,
            "object_fit": null,
            "object_position": null,
            "order": null,
            "overflow": null,
            "overflow_x": null,
            "overflow_y": null,
            "padding": null,
            "right": null,
            "top": null,
            "visibility": null,
            "width": null
          }
        },
        "5837b9dac66749efa878a8624ac260fb": {
          "model_module": "@jupyter-widgets/controls",
          "model_name": "DescriptionStyleModel",
          "model_module_version": "1.5.0",
          "state": {
            "_model_module": "@jupyter-widgets/controls",
            "_model_module_version": "1.5.0",
            "_model_name": "DescriptionStyleModel",
            "_view_count": null,
            "_view_module": "@jupyter-widgets/base",
            "_view_module_version": "1.2.0",
            "_view_name": "StyleView",
            "description_width": ""
          }
        },
        "361b2b5d58944078b727f991847735e0": {
          "model_module": "@jupyter-widgets/controls",
          "model_name": "HTMLModel",
          "model_module_version": "1.5.0",
          "state": {
            "_dom_classes": [],
            "_model_module": "@jupyter-widgets/controls",
            "_model_module_version": "1.5.0",
            "_model_name": "HTMLModel",
            "_view_count": null,
            "_view_module": "@jupyter-widgets/controls",
            "_view_module_version": "1.5.0",
            "_view_name": "HTMLView",
            "description": "",
            "description_tooltip": null,
            "layout": "IPY_MODEL_21d0729590954dcabbff99aca7bef15b",
            "placeholder": "​",
            "style": "IPY_MODEL_9e4646e94ae74ea4a11f8d145d670895",
            "value": "<img src=\"data:image/gif;base64,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\" />"
          }
        },
        "21d0729590954dcabbff99aca7bef15b": {
          "model_module": "@jupyter-widgets/base",
          "model_name": "LayoutModel",
          "model_module_version": "1.2.0",
          "state": {
            "_model_module": "@jupyter-widgets/base",
            "_model_module_version": "1.2.0",
            "_model_name": "LayoutModel",
            "_view_count": null,
            "_view_module": "@jupyter-widgets/base",
            "_view_module_version": "1.2.0",
            "_view_name": "LayoutView",
            "align_content": null,
            "align_items": null,
            "align_self": null,
            "border": null,
            "bottom": null,
            "display": null,
            "flex": null,
            "flex_flow": null,
            "grid_area": null,
            "grid_auto_columns": null,
            "grid_auto_flow": null,
            "grid_auto_rows": null,
            "grid_column": null,
            "grid_gap": null,
            "grid_row": null,
            "grid_template_areas": null,
            "grid_template_columns": null,
            "grid_template_rows": null,
            "height": null,
            "justify_content": null,
            "justify_items": null,
            "left": null,
            "margin": null,
            "max_height": null,
            "max_width": null,
            "min_height": null,
            "min_width": null,
            "object_fit": null,
            "object_position": null,
            "order": null,
            "overflow": null,
            "overflow_x": null,
            "overflow_y": null,
            "padding": null,
            "right": null,
            "top": null,
            "visibility": null,
            "width": null
          }
        },
        "9e4646e94ae74ea4a11f8d145d670895": {
          "model_module": "@jupyter-widgets/controls",
          "model_name": "DescriptionStyleModel",
          "model_module_version": "1.5.0",
          "state": {
            "_model_module": "@jupyter-widgets/controls",
            "_model_module_version": "1.5.0",
            "_model_name": "DescriptionStyleModel",
            "_view_count": null,
            "_view_module": "@jupyter-widgets/base",
            "_view_module_version": "1.2.0",
            "_view_name": "StyleView",
            "description_width": ""
          }
        },
        "96a4f5fbd8da4334a79e950f589cd4df": {
          "model_module": "@jupyter-widgets/controls",
          "model_name": "HTMLModel",
          "model_module_version": "1.5.0",
          "state": {
            "_dom_classes": [],
            "_model_module": "@jupyter-widgets/controls",
            "_model_module_version": "1.5.0",
            "_model_name": "HTMLModel",
            "_view_count": null,
            "_view_module": "@jupyter-widgets/controls",
            "_view_module_version": "1.5.0",
            "_view_name": "HTMLView",
            "description": "",
            "description_tooltip": null,
            "layout": "IPY_MODEL_b61dd12fe18b4ae09fa213008f6e06ff",
            "placeholder": "​",
            "style": "IPY_MODEL_f148bc38623d4307a5f2470c55f66ce2",
            "value": "<img src=\"data:image/gif;base64,R0lGODlhQABAAIYAAN+SgduPgLx/erN5dKqDeaR/c6l+eJt2h6J5cplzfZR3jIlykndZt3VTrmJOQlFCOzpQ1y5L2hos0VJBOBYo1wkHBgAA3QAA3AAA2wAA2gAA2QAA2AAA1wAA0AAAzwAAzgAAzQAAzAAAywAAygAAyQAAyAAAwwAAwgAAvgAAvQAAvAAAuQAAuAAAtwAAtgAAtQAAtAAAsgAAsQAAJwAAIgAAHgAAHAAAEwAAEgAAEAAADgAADAAACQAACAAABwAABAAAAwAAAgAAAAAAAAAAAAAAAAAAAAAAAAAAAAAAAAAAAAAAAAAAAAAAAAAAAAAAAAAAAAAAAAAAAAAAAAAAAAAAAAAAAAAAAAAAAAAAAAAAAAAAAAAAAAAAAAAAAAAAAAAAAAAAAAAAAAAAAAAAAAAAAAAAAAAAAAAAAAAAAAAAAAAAAAAAAAAAAAAAAAAAAAAAAAAAAAAAAAAAAAAAAAAAAAAAAAAAAAAAAAAAAAAAAAAAAAAAAAAAAAAAAAAAACH/C05FVFNDQVBFMi4wAwEAAAAh+QQACgAAACwAAAAAQABAAAAI/wCFCBxIsKDBgwgTKlzIsKHDhxAjSpxIsaLFixgzatzIsaPHjyBDihxJsiRIBxNMYixAQKXFCggMPHBJUUGCAwtoSsQhAUIECjN0Qrxh4oKFDkGFOsRxAsMFDzSUOsyBwumHGlIb7kCRAQMIG1kZ9kjRNQTYsAp/pHAK4gZahT7WXmj7NuEPFWXd1j0YZIUGDCFw7EXIoqsIHYMPsvgrYkdigy42YBDB43HBFxsykPBhmSCMvyN+dB74AjSQ0QI/YyBxGrWMzCWCoBYSo+uI2UJelMVd+oII3hp8A5+Mu8XfELgjE5+t/PdsFpKRz24h2TlqFxww3J5eHbjw2QMaMBoQgFtIAADl06tfz769+/fw48ufT7++/ZEBAQAh+QQBCgBAACwdAAsABgAlAIXekoLPiHvDhHq1jn+qgHiojZmofXepd4WfeXGbdYGRc5Jrcs2gbnaUcXphTEBfS0EwSdhdSUY4LMgGCt0DCsQrIhwAAN0AANwAANsAANoAANkAANgAANcAANYAANUAANQAANAAAM4AAM0AAMwAAMsAAMoAAMkAAK4AAK0AAKsAAKoAAKkAAKYAAKUAAKQAAKMAAKIAAKAAAJ8AAC0AACgAACYAABkAABcAABAAAAwAAAoAAAcAAAYAAAIAAAEAAAAIswCBAHHwQKDAAQQMVkBgIILAAg0SKACCg8ICCBNo4EAB4kKGGTtOhACioUaPEyJI2viRYsSFDTd+qCBxgQMOmSOAbNAhU4SFnT9WuNyQ40eLEkA46ADSguYGHkxJJO0BxAVSDj6AvCiBocMPIDBK1Pz6wiWHrzCkngUiw0TXrzGcCoQxVGBZnXPV2jUrsIWImnuBdAjMoW/KwlVTDtaK1IPhpAJZhMDwQSCDAxIEGAwAQGBAACH5BAEKAEEALB0ACwAGACYAhsajk8Oah9uPf62Hfb9+dbx7fah/dpp2kp5yipZ1g5ZxeqR6c5NzX5BlnIlpZpVjY35iWFhn0FRhxGdQQxIMCgMF3wAEvAYEAwAA3QAA3AAA2wAA2gAA1wAA1gAA1QAA1AAA0wAA0gAAtwAAtgAAtQAAtAAAswAAsgAAsQAAsAAArgAArQAAqwAApQAApAAAowAAogAAoQAAoAAAnwAAngAAnQAAnAAAmwAAmgAAFQAAFAAACgAACQAABgAAAgAAAQAAAAAAAAAAAAAAAAAAAAAAAAAAAAAAAAAAAAAAAAAAAAAAAAAAAAAAAAAAAAAAAAAAAAAAAAAAAAAAAAAAAAAAAAAAAAAAAAAAAAAAAAAAAAAAAAAAAAAAAAAAAAAAAAAAAAAAAAAAAAAAAAAAAAAAAAAAAAAAAAAAAAAAAAAAAAAAAAAAAAAAAAAAAAAAAAAAAAAAAAAAAAAAAAAAAAAAAAAAAAAAAAAAAAAAAAAAAAAAAAAAAAAAAAAAAAAAAAiyAIMEmQBBoMAABgwyGLDAgUAACRQcCNLDgoQIFXTwkCGiA4YcP2CM+IBhBxCRJH0EkUECRAYgQWaYcAkzRgmSNW9igDlDJ8wbKEK8DGIjBc0gNYwOTQpCA0wbKoQKrLHiQwaBNFRYnapVg0AcLJoKvMHCw9UgWc0KnJFCbcy2Z2PAFfjCRIe4Jjx4DQLjhF6DJDrsDTJCsMGbe2MEPutCBIcNAh8gaFDAIAEBFAwGuSAwIAAh+QQBCgBFACwdAAsABgAmAIbTrJXXp4rSp4/CmYjNh3ulhY+lfnS2d4O0d2+seoKjeXafeHGYdmqZdYqTcXqja2h0Wktrb8dYWqQPMcUFB9wABsYlGBQNCQgAAggAANsAANoAANkAAMUAAMMAAMEAAL8AAL4AAL0AALwAALsAALoAALkAALgAALcAALYAALUAALQAALMAALIAALEAAKcAAKYAAKUAAKQAAKMAAKIAAKEAAKAAAJ8AAJ4AAJwAACUAACIAACEAABgAABAAAA8AAAoAAAYAAAMAAAIAAAEAAAAAAAAAAAAAAAAAAAAAAAAAAAAAAAAAAAAAAAAAAAAAAAAAAAAAAAAAAAAAAAAAAAAAAAAAAAAAAAAAAAAAAAAAAAAAAAAAAAAAAAAAAAAAAAAAAAAAAAAAAAAAAAAAAAAAAAAAAAAAAAAAAAAAAAAAAAAAAAAAAAAAAAAAAAAAAAAAAAAAAAAAAAAAAAAAAAAAAAAAAAAAAAAAAAAAAAAAAAAAAAAAAAAAAAAAAAAAAAAIuwCLFIHAQKBAAQYMBhiwQEERDAAKOGhQZEeFCREo5NDB4sUHDTt8oHABQgOPHyNL9gCC4kWIDT+CnIghYgOQISZghNAQBCcMEBmEDEkRY6eQIitokNgwpIiKGiQ0CExBY8SGqVCvOq1RQqsKGyakOrURVeAKslpb4DihlQWOEmJV3AiRAStdu3WLpKgBdOqMD3lV/BW796PAEzI8iM3ZwaCJxGJLyOiQt4QLDlofSEhwwCACAhYMFrkgMCAAIfkEAQoASwAsHQALAAYAJgCG6LSV27GY3a2T0aWPwZ2PwYB2poF0pX93pX90vH13sHVwpHl1mHeFk3KEpW1mjm2UgWVTc1yDIUHEBizIFiPUAQXTAQcVEgwKEAoJBQQGAADWAADUAADTAADSAADRAADQAADPAADOAADNAADMAADLAADKAADJAADIAADHAADGAADFAADEAADDAADCAACxAACvAACuAACtAACsAACrAACqAACpAACoAACnAACmAAClAACkAACjAACiAAChAACgAAAbAAAVAAATAAAPAAAOAAANAAALAAAGAAAEAAACAAABAAAAAAAAAAAAAAAAAAAAAAAAAAAAAAAAAAAAAAAAAAAAAAAAAAAAAAAAAAAAAAAAAAAAAAAAAAAAAAAAAAAAAAAAAAAAAAAAAAAAAAAAAAAAAAAAAAAAAAAAAAAAAAAAAAAAAAAAAAAAAAAAAAAAAAAAAAAAAAAAAAAAAAAAAAAAAAAAAAAAAAAAAAAAAAAAAAAAAAAAAAAAAAAAAAAAAAAACMgAlyyBYECgQAEIDAIYcGDBEgsBCDBokAFIhQkSKAj5oWLJjBFEgqSoIQPkkJEySAwpksLGjBJDjKC4QYMEESQoatAQUWQJChozRBhRooLmiCNLVOy4QQLpih04RiBZskLHjRECVVgVIfBpVIEsdOQIAVYHDhBgoaJd0sLHDq5se+z4AJYHDg9dddjAS3XH3rI2OmTNQYPDYBqCl6TQUVggihwxNgg8geOF5CUndEQWaIIHDA2Tebi4rCDCgwQGHRS4YHAJBoEBAQAh+QQBCgBJACwdAAsABgAmAIblspPksZXgspvbrJPSqZG1joKviXu7fnWqhXemh5C6e3O4enGhd3Ombmiba3SUc4SAZFNNVp4XS9AGJ8YJFssBBdsCCBsNCAcIBwoAANYAANUAANQAANMAANIAANEAANAAAMQAAMIAAMEAAMAAAL8AAL4AAL0AALwAALsAALkAALgAALcAALYAALUAALQAALMAALIAALEAAKIAAKEAAKAAAJ8AAJ4AAJ0AAJwAAJsAAJoAAJkAAJcAAJYAAA8AAA0AAAwAAAoAAAkAAAYAAAUAAAQAAAMAAAEAAAAAAAAAAAAAAAAAAAAAAAAAAAAAAAAAAAAAAAAAAAAAAAAAAAAAAAAAAAAAAAAAAAAAAAAAAAAAAAAAAAAAAAAAAAAAAAAAAAAAAAAAAAAAAAAAAAAAAAAAAAAAAAAAAAAAAAAAAAAAAAAAAAAAAAAAAAAAAAAAAAAAAAAAAAAAAAAAAAAAAAAAAAAAAAAAAAAAAAAAAAAAAAAAAAAAAAAAAAAAAAAIwwCTJIGAQKDAAAYMAhhQgEESCwIIJHiAwUcFCRMo/ADSAQWNFz6IcCghw0WQIh1MyGghxIgHEzRMHklZ4wUQJBxgthiCJOUMFkaSeEBRo8URoSlywECSpEPSpUhzvBDoIakLqip0TBWaFQbVFTquCgW79UOLHjGotuCx1cOKHSy+6lAhsANYukk4rMCRQuAGFjZOCNTAAgeKwSxyCE6SYYUNEgIzqKghIrKKGyMs3wgxWIUMEAIVOIhwwGCDBUwNXhAYEAAh+QQBCgBLACwdAAsABgAmAIbptZflspbisZ7csJXNn4PHnovBno++l4Wjf3K7fHSyeHWxeHWUdoqxdXGqcGmcdXCEYHpxWEkeUdkPP8sAAd4BBb4AAgwJBgUDAgMAANwAANsAANoAANkAAMwAAMsAAMoAAMkAAMgAAMcAAMYAAMUAALgAALcAALYAALUAALQAALMAALEAALAAAK8AAK4AAK0AAKwAAKsAAKoAAKkAAKgAAKcAAKYAAKUAAKQAAKMAAKIAAKEAAKAAAB8AAB4AAB0AABgAABYAABEAAA0AAAgAAAcAAAYAAAMAAAIAAAEAAAAAAAAAAAAAAAAAAAAAAAAAAAAAAAAAAAAAAAAAAAAAAAAAAAAAAAAAAAAAAAAAAAAAAAAAAAAAAAAAAAAAAAAAAAAAAAAAAAAAAAAAAAAAAAAAAAAAAAAAAAAAAAAAAAAAAAAAAAAAAAAAAAAAAAAAAAAAAAAAAAAAAAAAAAAAAAAAAAAAAAAAAAAAAAAAAAAAAAAAAAAAAAAAAAAAAAAIvQCXLImAQKBAAAcMEghQ4MESCwIGGGCAwQcFCRMq9OixwUMKHD+CZOhQwkaPIRo8mKgBpEjHEzeCHNHwAQUOIUlSnrBBZAlNFDaKLNkAQsUNI0NBsNiBVEOIFjqQ+AzBIodADSJY4BC4QQTUqyO++iThwurQES90CORAIgYPrm13wH2x9ayLG1zR4h1K4kUNsC9mXBXxgsZgGIKnvoBxNcQLF1xFwHjBNYSMFmstrxCYQAGEBQYbODAo8ILAgAAh+QQBCgBBACwdAAsABgAmAIbst5nrtpjktJfYqqLUqJDSqZHNo42Zfpa7fXe7fHe0eHalcHOnb2iYc2+ZaXGWdWiOb11YRTkQQdYOPeAABL8AAN4AAN0AANwAANsAANoAANkAANgAANcAANYAANUAANQAANMAAMcAAMYAAMUAAMQAAMMAAMEAAMAAAL4AAL0AAKwAAKsAAKkAAKgAAKUAAKIAAKEAAKAAAJ8AAJ4AAJ0AAJwAAJsAAJoAABsAABYAABUAABAAAAkAAAgAAAYAAAIAAAAAAAAAAAAAAAAAAAAAAAAAAAAAAAAAAAAAAAAAAAAAAAAAAAAAAAAAAAAAAAAAAAAAAAAAAAAAAAAAAAAAAAAAAAAAAAAAAAAAAAAAAAAAAAAAAAAAAAAAAAAAAAAAAAAAAAAAAAAAAAAAAAAAAAAAAAAAAAAAAAAAAAAAAAAAAAAAAAAAAAAAAAAAAAAAAAAAAAAAAAAAAAAAAAAAAAAAAAAAAAAAAAAAAAAAAAAAAAAAAAAAAAAAAAAAAAAItwCDBInwQKBAAAYMQghAoEEQIAMEFDgAJEeFCRIo4NBhoYMIFjh6VNgQQsWOHxU6jFjBA4gFDyNY+HAJs8UPIClHtAAS5CWJnUEueCjxMOgHEy94CjUBg+dLpAKFnogR9cOJGVE9pMAa1AMKGQIxeKUhMAOIFDfCfkhhQy0KrkE+vDXotQbdFGSDZOiQAqxevnb/pgicgcNXgRoMc9XQAUXgDY39cvAKQ6ACBAscGEzAwKBAnkECAgAh+QQBCgBCACwdAAsABgAlAIbtuJnrtpjmtJndsJXfr5TZq5LMoaKylZe9fHe2e3axdnGydX2sc3OYZGJ/ZFduVFFgTkIXS99SQDYCEN8ABswAAN4AAN0AANwAANsAANoAANkAANgAANcAANYAANUAANQAANIAANEAANAAAM8AAM4AAM0AAMwAAMsAAMoAAL4AAL0AALsAALoAALcAALUAALQAALMAALIAALEAALAAAK8AAK4AAKwAAKsAAKoAACAAABkAABYAAA8AAA4AAAwAAAUAAAEAAAAAAAAAAAAAAAAAAAAAAAAAAAAAAAAAAAAAAAAAAAAAAAAAAAAAAAAAAAAAAAAAAAAAAAAAAAAAAAAAAAAAAAAAAAAAAAAAAAAAAAAAAAAAAAAAAAAAAAAAAAAAAAAAAAAAAAAAAAAAAAAAAAAAAAAAAAAAAAAAAAAAAAAAAAAAAAAAAAAAAAAAAAAAAAAAAAAAAAAAAAAAAAAAAAAAAAAAAAAAAAAAAAAAAAAAAAAAAAAAAAAAAAAAAAAIsQCFCJHgQKDAAAUMQgBA4IFAAwIGHBDSw8KECBR08MhwAYSKHD8wVPiQYkcQDRY88hDC4UKIFT5YulzxQ8gGCyFYAGGJU6eQDhdGtBDYAcMIFwI3BEVqcynRCyVeEMVQAobAliRiPEUhQ6AHql2FfMhggoZXqjPOngj7AQNXgW1LpBWLoSxctHdL1Lg7Yi/dE2aFgMBAwq+IDCVsCByBGIdAExpM3BDIYEGCBgYRKBAYEAAh+QQBCgBEACwdAAsABgAlAIbrtpjptJfltJfls5bisJrisJTLp5O2laK7fHa6e3i6enambWqPZ5qRaHpsVklSQjtTQjgDFt8CDd4BBdgAA9YVEA8AAN0AANwAANsAANoAANkAANgAAM8AAM4AAMwAAMoAAMkAAMgAAMcAAMYAAMUAAMQAAMMAAMIAAMEAAMAAAL8AAL4AAL0AALsAALkAALcAACEAACAAAB0AABgAABcAABYAABUAABIAABEAABAAAA4AAAwAAAsAAAkAAAcAAAYAAAQAAAIAAAEAAAAAAAAAAAAAAAAAAAAAAAAAAAAAAAAAAAAAAAAAAAAAAAAAAAAAAAAAAAAAAAAAAAAAAAAAAAAAAAAAAAAAAAAAAAAAAAAAAAAAAAAAAAAAAAAAAAAAAAAAAAAAAAAAAAAAAAAAAAAAAAAAAAAAAAAAAAAAAAAAAAAAAAAAAAAAAAAAAAAAAAAAAAAAAAAAAAAAAAAAAAAAAAAAAAAAAAAAAAAAAAAAAAAAAAAAAAAAAAAAAAAIuACJEIHgQKDAAQUMPgAQoILAAwQEGCACg4KECBNsxOhABIOHGTI4WLDg4QaNDx0/3KgRgkgGEDlwtHzZg0dLDCB+8BDhMoQPHTw1iPixI+iIID1AuBxBxMfMEkSA8MwANUhQqEKmmhA4AkOGEwJJENEAlkgJDRtQhM1Adm1bs2zLmmCrlggKDRpSCDyRIYNeu2z/zs0rEAVbFQJX4EVMpAXaFQJdbNgAmciLySwENmCQYIFBBQgEBgQAIfkEAQoATQAsHQALAAYAJQCG7beZ6bSX5bOZ4rGU2a+X26yS2KmXvXx3nYmgsnZwsXZypXCKnW2Idl2DZlBNZE9DYk5EAxHaAg7eAAPMAALdCQcGAADeAADdAADcAADbAADaAADZAADYAADXAADWAADVAADUAADTAADSAADRAADQAADPAADOAADJAAC8AAC5AAC4AAC3AAC2AAC1AAC0AACzAACyAACwAACuAACtAACsAACqAACpAAAqAAAmAAAjAAAeAAAcAAAWAAAVAAAUAAATAAARAAAPAAAMAAALAAAKAAAIAAAGAAAFAAAEAAADAAACAAABAAAAAAAAAAAAAAAAAAAAAAAAAAAAAAAAAAAAAAAAAAAAAAAAAAAAAAAAAAAAAAAAAAAAAAAAAAAAAAAAAAAAAAAAAAAAAAAAAAAAAAAAAAAAAAAAAAAAAAAAAAAAAAAAAAAAAAAAAAAAAAAAAAAAAAAAAAAAAAAAAAAAAAAAAAAAAAAAAAAAAAAAAAAAAAAAAAAAAAAAAAAAAAAACL0AmzSB8ECgwAIBDDoYAKCCQAQGBBBocmNCBAkUguBA8QEDByA5UHSwsIFIjhQfLHgookOFiAsfjOxwCXOJjxUhYDLpwSInCCY8WojA8PMHi6EhmARhAYJoEyEtQFwA0WSIixAYQjQp8gKr1iMwvDZJEkMskhhDRTRREmOEhhEC0WZQ20QuXblwm8gQkSEvDRFvBf7tK3BGCMJNDM8tfNjv4RICa7g1IdAGCQ2Um9goseGEwAYMFiQwqOCAwIAAIfkEAQoAQQAsHQALAAYAJQCG7LeZ7LeY4LGd4K6Z1amPz6WNxp+Wj4Cdu3x0uXp2p3Fwl2qRkG9uhWiWhGhcemGKYUxACSrXAg7cHxgUAAPCAADfAADeAADdAADcAADbAADaAADZAADYAADXAADWAADHAADFAADDAADCAADBAADAAAC/AAC+AAC9AAC8AAC7AACuAACtAACsAACqAACoAACnAACmAAClAACjAACiAAChAACgAACfAAApAAAfAAAcAAAPAAALAAAIAAAHAAACAAABAAAAAAAAAAAAAAAAAAAAAAAAAAAAAAAAAAAAAAAAAAAAAAAAAAAAAAAAAAAAAAAAAAAAAAAAAAAAAAAAAAAAAAAAAAAAAAAAAAAAAAAAAAAAAAAAAAAAAAAAAAAAAAAAAAAAAAAAAAAAAAAAAAAAAAAAAAAAAAAAAAAAAAAAAAAAAAAAAAAAAAAAAAAAAAAAAAAAAAAAAAAAAAAAAAAAAAAAAAAAAAAAAAAAAAAAAAAAAAAAAAAAAAAAAAAAAAAACLQAgwRxAEGgwAIBDDIgAGCCwAMGBggIgoNCBAkVetxQAWIDBh45VHzQYOGHjhUhNlwAsoPFiA4YgPRgIQImEB80OVwI8qOFCA4YeLp4mSGIjxdEgwB5EQKoUhgiPD79WRRIjBEcqsqgqpQG1qo1THTQoNRGCQ9kg9QoMVbgDBJtg8iAm3YG27Rh467lkNYGCb4Ca/ytO9htCQ4bAp/owMEtCg+Jg8RI4cGDwAcNFiAwqCCBwIAAIfkEAQoAOwAsHQALAAYAJQCF67aY57SW3K2h1qeWxqCJwpuGspSVnnxvuHp0n3p3i3iWsHVyqnR6pHBznG+JcVdIZE5BPkinByPZBR/NAAfAAADeAADdAADcAADbAADaAADYAADOAADNAADMAADLAADKAADJAAC7AAC2AAC1AAC0AACzAACyAACxAACwAACvAACuAACtAACsAACrAACqAACpAACoAAAZAAAXAAAWAAALAAAKAAAFAAAEAAADAAABAAAAAAAAAAAAAAAAAAAAAAAACLMAd+w4AEGgwAIADCYgEOCBQAUGBgjYIYPCBAkVZsyAMcLDjhg1WIjYYIHGDRYkPuywkcNFCRA7cOhwCXOHjh0lPNpkYeKDBZsuTqi0CeNEzR0vTnQwGHSpQBcoPFx4mkLqUxVWd7hgkdVFiw8YBMJocfQFC7ACWXANu2PFCp07VHA1mMIFXBQuOrBV0YIDXRYc2JZgsYEtCcJsTbTokEHgCLuNd4T4qkEggwgOEBhssEBgQAAh+QQBCgBOACwdAAsABgAmAIbms5bdrpLWqKHDnZbHmn+4k4K0jn67fnuphXeje3efiJSxd3SydnWncXGKcpJ5Y5luVkchQqwIJdAEH8QCEcsAAtkBBQ4HBQQDAgMAANgAANcAANYAANUAANQAANIAAMgAAMUAAMQAAMMAAMEAAMAAAL8AAL4AAL0AALwAALsAALoAALkAALgAALcAALYAALUAAKkAAKgAAKcAAKYAAKQAAKMAAKIAAKEAAKAAAJ8AAJ4AAJ0AACIAAB8AAB0AABwAABoAABcAABQAABAAAAwAAAsAAAcAAAYAAAUAAAQAAAMAAAIAAAEAAAAAAAAAAAAAAAAAAAAAAAAAAAAAAAAAAAAAAAAAAAAAAAAAAAAAAAAAAAAAAAAAAAAAAAAAAAAAAAAAAAAAAAAAAAAAAAAAAAAAAAAAAAAAAAAAAAAAAAAAAAAAAAAAAAAAAAAAAAAAAAAAAAAAAAAAAAAAAAAAAAAAAAAAAAAAAAAAAAAAAAAAAAAAAAAAAAAAAAAAAAAIwACdOEEAQaBAAwAMJigQgIATDA4UDBBgwQeFCRIq9PihYkaKDjyAnICBYkMQISNVdBgy5ESMFR6IFDERQ6WRIyVqclCCU4aKnUhM0FjRYUkSFDaIMmFyosZPgU1XbIBagwUHqDasQr3RYqqTEzhcXHWCAseLDgJT7HCB9quOF2NLhI1ro6vAEjZceCVh1usIsxoEksjRIrCTEToKCwxxg0UGgSKqPnYiIqxhEIAFfpihV+CBCA8YGFzQwKCTCwYDAgAh+QQBCgBGACwdAAsABgAmAIblsZLerpPOpo3MoaGxlJSshnmrhnrDhHvAf3WphXqleneUfJCNcpKncXOjcHSAY1J2ZqEpPqkQRsQMIdMEHscABNMCCBkKBgYHBgkAANMAANIAANAAAM4AAM0AAMwAAMsAAMoAAMkAAMgAAMcAAMYAAMUAAMQAAMMAALsAALcAALYAALUAALQAALMAALIAALEAALAAAK0AAKwAAKsAAKkAAKgAAKcAAKYAAKQAAKMAAKIAAA8AAA0AAAoAAAkAAAcAAAYAAAQAAAMAAAIAAAEAAAAAAAAAAAAAAAAAAAAAAAAAAAAAAAAAAAAAAAAAAAAAAAAAAAAAAAAAAAAAAAAAAAAAAAAAAAAAAAAAAAAAAAAAAAAAAAAAAAAAAAAAAAAAAAAAAAAAAAAAAAAAAAAAAAAAAAAAAAAAAAAAAAAAAAAAAAAAAAAAAAAAAAAAAAAAAAAAAAAAAAAAAAAAAAAAAAAAAAAAAAAAAAAAAAAAAAAAAAAAAAAAAAAAAAAAAAAIwACNGCnwQKBAAwEMKkggAIARDAwWEBhgYccECRQq8OgxwsWMEj58iFARgwQQHyFImgjSI8QKGSeEtHxZosgPECtKFgkCQsXHIkNAsKBRk4gIFzVqFgmBdIRApjWcGgHRVCBVG1KZ3iDx9EUOrkZCeAUrAoaOElbHCvTgAofUDi1uiBDYgYVcuixwhBDIYUWOD3ztAjbCoQUODwI3qLjRIXGKGhwSr7CB2IiGFYwFZkBRo/IBCBEaGETgwKCRCwYDAgAh+QQBCgBJACwdAAsABgAmAIblspPSp47Bm4a9maHLh3qeh5Sqg3mngnW/fnq0d3Okf3ejeXWWdZOSdoyhdJKQaHyEZ1U3W8s9VqwINMIPGtkAA8cBBBMRCwkQCgkHBggAANoAANkAANgAANYAANUAANQAAMkAAMUAAMQAAMMAAMIAAMEAAMAAAL8AALoAALkAALgAALcAALYAALUAALQAALMAALIAALEAAK8AAK4AAK0AAKsAAKoAAKkAAKgAAKcAABoAABcAABIAABAAAA4AAA0AAAwAAAkAAAgAAAYAAAQAAAMAAAIAAAEAAAAAAAAAAAAAAAAAAAAAAAAAAAAAAAAAAAAAAAAAAAAAAAAAAAAAAAAAAAAAAAAAAAAAAAAAAAAAAAAAAAAAAAAAAAAAAAAAAAAAAAAAAAAAAAAAAAAAAAAAAAAAAAAAAAAAAAAAAAAAAAAAAAAAAAAAAAAAAAAAAAAAAAAAAAAAAAAAAAAAAAAAAAAAAAAAAAAAAAAAAAAAAAAAAAAAAAAAAAAAAAAIvQCTJDkAQaBAAwEMLlAgAECSDAwaFBhgoQeFCBMq7ODhoQQNFzp6fCARowUPHx9GyGgB5EfKlUJcjpjBgkgQDzNZHBmCc0aLJERwfkxSZGSNn0Y8kDgqUCnTJEpt/IRaQqrADlVfXC1xI8ZVE12bnsjhNUkHEzjKciBxQ2sSDiNquBAIt4ZbuDZgCNwQd+7bEVbfisDBYm8IGysEaghRI8VeEUkSJ1mMQ8VeEDJQCETgQMIDgRcIJDCYBIPBgAAh+QQBCgBFACwdAAsABgAmAIbUpYnEnYfWjn+ljaCxjH64gomqgni/fnS1doenf3iadpGSe4+Rc4eIa5uYcWyPb2NzWktfbtBxXYkkU8kFCN4ABMAnGRURCwoAAQYAANwAANsAANoAANMAANEAANAAAM8AAM4AAM0AAMwAAMsAAMEAAL8AAL4AAL0AALwAALsAALoAALkAAKkAAKgAAKcAAKYAAKQAAKMAAKIAAKEAAKAAAJ8AAJ4AACUAACMAAB4AAB0AABwAABQAABAAAAwAAAsAAAUAAAQAAAMAAAEAAAAAAAAAAAAAAAAAAAAAAAAAAAAAAAAAAAAAAAAAAAAAAAAAAAAAAAAAAAAAAAAAAAAAAAAAAAAAAAAAAAAAAAAAAAAAAAAAAAAAAAAAAAAAAAAAAAAAAAAAAAAAAAAAAAAAAAAAAAAAAAAAAAAAAAAAAAAAAAAAAAAAAAAAAAAAAAAAAAAAAAAAAAAAAAAAAAAAAAAAAAAAAAAAAAAAAAAAAAAAAAAAAAAAAAAAAAAAAAAIqwCLFHkAQaBAAwEMOkhAAEARIgoYLBiAAQeFCBMq5LiRAcSJFzt0aAhRgoUPHhlItgDSY6QJF0F+uHRBBEjHEi1q3nQh0CWMniJOyCgyZOSJGD1DHE2KAmmRkSmGPhWRYkbSFTSSqqghcMOIFTa0ci3SEYVVsh+aCsyQ1ilbs2s9oJCqQa5UtlHjflzb4QRPsh5SvOCL4u8GDiRYCERQoIEEgRYEHDBY5ILBgAAh+QQBCgA7ACwdAAsABgAmAIXfkoHIhXm1kH+7e3mpf3epfnipeI6kgHiTg5+gfmqadYeYdIiNcomYbKWVa4J1W1BdST1cbM0/WNZSPzwBEcgQCgkEBd4JBgUAAN0AANwAANsAANoAANkAANgAANcAANYAAMwAAMoAAMkAAMgAAMcAAMYAAMUAALkAALgAALcAALYAALQAALMAALIAALEAALAAAK8AAK4AAK0AAKsAABgAAA0AAAsAAAgAAAUAAAMAAAAAAAAAAAAAAAAAAAAAAAAIqQB37HgAQaBAAgIMTihwIIHABQoYINBBw4KECBRu0NixQUQKGzUycBBxIscNDB1I6sCRwYMIFDp0tByRYocOlB5t4qwps8MIFTZ3eBixwmYGn0UFdijBwmAHEk0FeiDRwmmJqkpNuLC6VaoJGFwFauAwAusODiG6jhWhlmzXDR3fjgTLca5ADhtCvLibN4bSkTP4ipAh8IMGEHQHNDDgQGAFAAEM7rhgMCAAIfkEAQoAPQAsHQALAAYAJgCF35OD1Y1+vH91tH+Nq4Z5p3x2sXh5pn93pn50m3WEjHuYlHOHkHGCZlJHZVBFUUA2T2XTKUbaNSzLBRbPBwnaEw4NAADdAADcAADbAADYAADXAADWAADVAADUAADTAADSAADRAADQAADPAADOAADLAADEAADDAADCAADBAADAAAC/AAC+AAC9AAAfAAAeAAAcAAAaAAAZAAAXAAARAAAPAAAOAAAMAAAIAAAGAAAFAAAEAAABAAAAAAAAAAAAAAAACLQAe/Rw8ECgQAQEDFYocKCBQAYJFijoEYNCBAgTXrTIYEGDCRcwNFjgUELGDA4jTdCg0cFCBxM1bnS44MGEDR0oX+rA6dKEjh0eXJ7A0eMDzRQ5eni40AGFjqJMUezoAeKowKoeUghc2kHFVqZeoXZYcRXDBxZfu37loLWohQ1tP4wMK5cD3QscyPYIgTdsVbtX8bYVcWGD3hEYOqDd21cgiQsaTggUIGGAAYE8AAQw2IOHwYAAIfkEAQoARgAsHQALAAYAJQCG35KB24+AvH96s3l0qoN5qX54pH5zo3lym3aHmXN9lHeMiXKSd1m3dlSuZE9DVUQ6OU/XLUvaGizRUUI7FijWCQcGAADdAADcAADbAADaAADZAADYAADXAADQAADPAADOAADNAADMAADLAADKAADJAADDAADBAADAAAC+AAC9AAC8AAC5AAC4AAC3AAC2AAC1AAC0AACxAAApAAAkAAAjAAAgAAAfAAAaAAAUAAATAAASAAARAAAOAAANAAAMAAAJAAAIAAAFAAAEAAADAAACAAAAAAAAAAAAAAAAAAAAAAAAAAAAAAAAAAAAAAAAAAAAAAAAAAAAAAAAAAAAAAAAAAAAAAAAAAAAAAAAAAAAAAAAAAAAAAAAAAAAAAAAAAAAAAAAAAAAAAAAAAAAAAAAAAAAAAAAAAAAAAAAAAAAAAAAAAAAAAAAAAAAAAAAAAAAAAAAAAAAAAAAAAAAAAAAAAAAAAAAAAAAAAAAAAAAAAAAAAAAAAAAAAAAAAAAAAAACLMAjRhx8ECgQAMEDFY4UGCCQAUJECwwskMChAgUZOQoccFChxk6TGC44IEGjxMjP9jogSIDBhA1jKRwGeKGzJEgcgRBgVOHEBU0cRBZoQGDiBxGiBrlYaRFURE+jLjYYPSH1A0ZRliFUXSEECMvipIYYoQrhrFGYmAlQaSsyxECX9CMq+FCCIEu6t4F+1Qgi6J7pxrF29cIC6p7W1AVgZcDBrhNF9O9wNjIgAYMBBgMAEBgQAA7\" />"
          }
        },
        "b61dd12fe18b4ae09fa213008f6e06ff": {
          "model_module": "@jupyter-widgets/base",
          "model_name": "LayoutModel",
          "model_module_version": "1.2.0",
          "state": {
            "_model_module": "@jupyter-widgets/base",
            "_model_module_version": "1.2.0",
            "_model_name": "LayoutModel",
            "_view_count": null,
            "_view_module": "@jupyter-widgets/base",
            "_view_module_version": "1.2.0",
            "_view_name": "LayoutView",
            "align_content": null,
            "align_items": null,
            "align_self": null,
            "border": null,
            "bottom": null,
            "display": null,
            "flex": null,
            "flex_flow": null,
            "grid_area": null,
            "grid_auto_columns": null,
            "grid_auto_flow": null,
            "grid_auto_rows": null,
            "grid_column": null,
            "grid_gap": null,
            "grid_row": null,
            "grid_template_areas": null,
            "grid_template_columns": null,
            "grid_template_rows": null,
            "height": null,
            "justify_content": null,
            "justify_items": null,
            "left": null,
            "margin": null,
            "max_height": null,
            "max_width": null,
            "min_height": null,
            "min_width": null,
            "object_fit": null,
            "object_position": null,
            "order": null,
            "overflow": null,
            "overflow_x": null,
            "overflow_y": null,
            "padding": null,
            "right": null,
            "top": null,
            "visibility": null,
            "width": null
          }
        },
        "f148bc38623d4307a5f2470c55f66ce2": {
          "model_module": "@jupyter-widgets/controls",
          "model_name": "DescriptionStyleModel",
          "model_module_version": "1.5.0",
          "state": {
            "_model_module": "@jupyter-widgets/controls",
            "_model_module_version": "1.5.0",
            "_model_name": "DescriptionStyleModel",
            "_view_count": null,
            "_view_module": "@jupyter-widgets/base",
            "_view_module_version": "1.2.0",
            "_view_name": "StyleView",
            "description_width": ""
          }
        },
        "6fe7bacedb6c4bc09ee0c123bae2717e": {
          "model_module": "@jupyter-widgets/controls",
          "model_name": "HTMLModel",
          "model_module_version": "1.5.0",
          "state": {
            "_dom_classes": [],
            "_model_module": "@jupyter-widgets/controls",
            "_model_module_version": "1.5.0",
            "_model_name": "HTMLModel",
            "_view_count": null,
            "_view_module": "@jupyter-widgets/controls",
            "_view_module_version": "1.5.0",
            "_view_name": "HTMLView",
            "description": "",
            "description_tooltip": null,
            "layout": "IPY_MODEL_b97be74be9644067b7012b9982ae57a0",
            "placeholder": "​",
            "style": "IPY_MODEL_018c151d3f44454590c20dbaf788fca5",
            "value": "<img src=\"data:image/gif;base64,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\" />"
          }
        },
        "b97be74be9644067b7012b9982ae57a0": {
          "model_module": "@jupyter-widgets/base",
          "model_name": "LayoutModel",
          "model_module_version": "1.2.0",
          "state": {
            "_model_module": "@jupyter-widgets/base",
            "_model_module_version": "1.2.0",
            "_model_name": "LayoutModel",
            "_view_count": null,
            "_view_module": "@jupyter-widgets/base",
            "_view_module_version": "1.2.0",
            "_view_name": "LayoutView",
            "align_content": null,
            "align_items": null,
            "align_self": null,
            "border": null,
            "bottom": null,
            "display": null,
            "flex": null,
            "flex_flow": null,
            "grid_area": null,
            "grid_auto_columns": null,
            "grid_auto_flow": null,
            "grid_auto_rows": null,
            "grid_column": null,
            "grid_gap": null,
            "grid_row": null,
            "grid_template_areas": null,
            "grid_template_columns": null,
            "grid_template_rows": null,
            "height": null,
            "justify_content": null,
            "justify_items": null,
            "left": null,
            "margin": null,
            "max_height": null,
            "max_width": null,
            "min_height": null,
            "min_width": null,
            "object_fit": null,
            "object_position": null,
            "order": null,
            "overflow": null,
            "overflow_x": null,
            "overflow_y": null,
            "padding": null,
            "right": null,
            "top": null,
            "visibility": null,
            "width": null
          }
        },
        "018c151d3f44454590c20dbaf788fca5": {
          "model_module": "@jupyter-widgets/controls",
          "model_name": "DescriptionStyleModel",
          "model_module_version": "1.5.0",
          "state": {
            "_model_module": "@jupyter-widgets/controls",
            "_model_module_version": "1.5.0",
            "_model_name": "DescriptionStyleModel",
            "_view_count": null,
            "_view_module": "@jupyter-widgets/base",
            "_view_module_version": "1.2.0",
            "_view_name": "StyleView",
            "description_width": ""
          }
        }
      }
    }
  },
  "cells": [
    {
      "cell_type": "code",
      "execution_count": 2,
      "metadata": {
        "colab": {
          "base_uri": "https://localhost:8080/"
        },
        "id": "nKOvnlI1j2VY",
        "outputId": "163110d5-91bf-4e20-cbf9-f6c4bdbe0b0f"
      },
      "outputs": [
        {
          "output_type": "stream",
          "name": "stdout",
          "text": [
            "Cloning into 'shap-e'...\n",
            "remote: Enumerating objects: 336, done.\u001b[K\n",
            "remote: Counting objects: 100% (55/55), done.\u001b[K\n",
            "remote: Compressing objects: 100% (42/42), done.\u001b[K\n",
            "remote: Total 336 (delta 35), reused 13 (delta 13), pack-reused 281 (from 2)\u001b[K\n",
            "Receiving objects: 100% (336/336), 11.72 MiB | 26.62 MiB/s, done.\n",
            "Resolving deltas: 100% (43/43), done.\n"
          ]
        }
      ],
      "source": [
        "!git clone https://github.com/openai/shap-e"
      ]
    },
    {
      "cell_type": "code",
      "source": [
        "%cd shap-e/"
      ],
      "metadata": {
        "colab": {
          "base_uri": "https://localhost:8080/"
        },
        "id": "mFKNrdx2kEtk",
        "outputId": "5cd810e6-ba80-4f24-9888-5d1ecae3fc20"
      },
      "execution_count": 3,
      "outputs": [
        {
          "output_type": "stream",
          "name": "stdout",
          "text": [
            "/content/shap-e\n"
          ]
        }
      ]
    },
    {
      "cell_type": "code",
      "source": [
        "%ls"
      ],
      "metadata": {
        "colab": {
          "base_uri": "https://localhost:8080/"
        },
        "id": "z79IUR8YkLi8",
        "outputId": "16729270-0e34-47fc-d754-95ba7cea6212"
      },
      "execution_count": 4,
      "outputs": [
        {
          "output_type": "stream",
          "name": "stdout",
          "text": [
            "LICENSE  model-card.md  README.md  \u001b[0m\u001b[01;34msamples\u001b[0m/  samples.md  setup.py  \u001b[01;34mshap_e\u001b[0m/\n"
          ]
        }
      ]
    },
    {
      "cell_type": "code",
      "source": [
        "!pip install -e .\n"
      ],
      "metadata": {
        "colab": {
          "base_uri": "https://localhost:8080/"
        },
        "id": "1j2x6mUpmI12",
        "outputId": "c93389a1-ff88-4611-8f5a-c8290ac93d5a"
      },
      "execution_count": 5,
      "outputs": [
        {
          "output_type": "stream",
          "name": "stdout",
          "text": [
            "Obtaining file:///content/shap-e\n",
            "  Preparing metadata (setup.py) ... \u001b[?25l\u001b[?25hdone\n",
            "Collecting clip@ git+https://github.com/openai/CLIP.git (from shap-e==0.0.0)\n",
            "  Cloning https://github.com/openai/CLIP.git to /tmp/pip-install-41eswdl_/clip_766dca5c63cc4c78bb7d998117506ff3\n",
            "  Running command git clone --filter=blob:none --quiet https://github.com/openai/CLIP.git /tmp/pip-install-41eswdl_/clip_766dca5c63cc4c78bb7d998117506ff3\n",
            "  Resolved https://github.com/openai/CLIP.git to commit dcba3cb2e2827b402d2701e7e1c7d9fed8a20ef1\n",
            "  Preparing metadata (setup.py) ... \u001b[?25l\u001b[?25hdone\n",
            "Requirement already satisfied: filelock in /usr/local/lib/python3.11/dist-packages (from shap-e==0.0.0) (3.18.0)\n",
            "Requirement already satisfied: Pillow in /usr/local/lib/python3.11/dist-packages (from shap-e==0.0.0) (11.3.0)\n",
            "Requirement already satisfied: torch in /usr/local/lib/python3.11/dist-packages (from shap-e==0.0.0) (2.6.0+cu124)\n",
            "Collecting fire (from shap-e==0.0.0)\n",
            "  Downloading fire-0.7.0.tar.gz (87 kB)\n",
            "\u001b[2K     \u001b[90m━━━━━━━━━━━━━━━━━━━━━━━━━━━━━━━━━━━━━━━━\u001b[0m \u001b[32m87.2/87.2 kB\u001b[0m \u001b[31m6.7 MB/s\u001b[0m eta \u001b[36m0:00:00\u001b[0m\n",
            "\u001b[?25h  Preparing metadata (setup.py) ... \u001b[?25l\u001b[?25hdone\n",
            "Requirement already satisfied: humanize in /usr/local/lib/python3.11/dist-packages (from shap-e==0.0.0) (4.12.3)\n",
            "Requirement already satisfied: requests in /usr/local/lib/python3.11/dist-packages (from shap-e==0.0.0) (2.32.3)\n",
            "Requirement already satisfied: tqdm in /usr/local/lib/python3.11/dist-packages (from shap-e==0.0.0) (4.67.1)\n",
            "Requirement already satisfied: matplotlib in /usr/local/lib/python3.11/dist-packages (from shap-e==0.0.0) (3.10.0)\n",
            "Requirement already satisfied: scikit-image in /usr/local/lib/python3.11/dist-packages (from shap-e==0.0.0) (0.25.2)\n",
            "Requirement already satisfied: scipy in /usr/local/lib/python3.11/dist-packages (from shap-e==0.0.0) (1.16.0)\n",
            "Requirement already satisfied: numpy in /usr/local/lib/python3.11/dist-packages (from shap-e==0.0.0) (2.0.2)\n",
            "Requirement already satisfied: blobfile in /usr/local/lib/python3.11/dist-packages (from shap-e==0.0.0) (3.0.0)\n",
            "Requirement already satisfied: pycryptodomex>=3.8 in /usr/local/lib/python3.11/dist-packages (from blobfile->shap-e==0.0.0) (3.23.0)\n",
            "Requirement already satisfied: urllib3<3,>=1.25.3 in /usr/local/lib/python3.11/dist-packages (from blobfile->shap-e==0.0.0) (2.5.0)\n",
            "Requirement already satisfied: lxml>=4.9 in /usr/local/lib/python3.11/dist-packages (from blobfile->shap-e==0.0.0) (5.4.0)\n",
            "Collecting ftfy (from clip@ git+https://github.com/openai/CLIP.git->shap-e==0.0.0)\n",
            "  Downloading ftfy-6.3.1-py3-none-any.whl.metadata (7.3 kB)\n",
            "Requirement already satisfied: packaging in /usr/local/lib/python3.11/dist-packages (from clip@ git+https://github.com/openai/CLIP.git->shap-e==0.0.0) (25.0)\n",
            "Requirement already satisfied: regex in /usr/local/lib/python3.11/dist-packages (from clip@ git+https://github.com/openai/CLIP.git->shap-e==0.0.0) (2024.11.6)\n",
            "Requirement already satisfied: torchvision in /usr/local/lib/python3.11/dist-packages (from clip@ git+https://github.com/openai/CLIP.git->shap-e==0.0.0) (0.21.0+cu124)\n",
            "Requirement already satisfied: termcolor in /usr/local/lib/python3.11/dist-packages (from fire->shap-e==0.0.0) (3.1.0)\n",
            "Requirement already satisfied: contourpy>=1.0.1 in /usr/local/lib/python3.11/dist-packages (from matplotlib->shap-e==0.0.0) (1.3.2)\n",
            "Requirement already satisfied: cycler>=0.10 in /usr/local/lib/python3.11/dist-packages (from matplotlib->shap-e==0.0.0) (0.12.1)\n",
            "Requirement already satisfied: fonttools>=4.22.0 in /usr/local/lib/python3.11/dist-packages (from matplotlib->shap-e==0.0.0) (4.59.0)\n",
            "Requirement already satisfied: kiwisolver>=1.3.1 in /usr/local/lib/python3.11/dist-packages (from matplotlib->shap-e==0.0.0) (1.4.8)\n",
            "Requirement already satisfied: pyparsing>=2.3.1 in /usr/local/lib/python3.11/dist-packages (from matplotlib->shap-e==0.0.0) (3.2.3)\n",
            "Requirement already satisfied: python-dateutil>=2.7 in /usr/local/lib/python3.11/dist-packages (from matplotlib->shap-e==0.0.0) (2.9.0.post0)\n",
            "Requirement already satisfied: charset-normalizer<4,>=2 in /usr/local/lib/python3.11/dist-packages (from requests->shap-e==0.0.0) (3.4.2)\n",
            "Requirement already satisfied: idna<4,>=2.5 in /usr/local/lib/python3.11/dist-packages (from requests->shap-e==0.0.0) (3.10)\n",
            "Requirement already satisfied: certifi>=2017.4.17 in /usr/local/lib/python3.11/dist-packages (from requests->shap-e==0.0.0) (2025.7.14)\n",
            "Requirement already satisfied: networkx>=3.0 in /usr/local/lib/python3.11/dist-packages (from scikit-image->shap-e==0.0.0) (3.5)\n",
            "Requirement already satisfied: imageio!=2.35.0,>=2.33 in /usr/local/lib/python3.11/dist-packages (from scikit-image->shap-e==0.0.0) (2.37.0)\n",
            "Requirement already satisfied: tifffile>=2022.8.12 in /usr/local/lib/python3.11/dist-packages (from scikit-image->shap-e==0.0.0) (2025.6.11)\n",
            "Requirement already satisfied: lazy-loader>=0.4 in /usr/local/lib/python3.11/dist-packages (from scikit-image->shap-e==0.0.0) (0.4)\n",
            "Requirement already satisfied: typing-extensions>=4.10.0 in /usr/local/lib/python3.11/dist-packages (from torch->shap-e==0.0.0) (4.14.1)\n",
            "Requirement already satisfied: jinja2 in /usr/local/lib/python3.11/dist-packages (from torch->shap-e==0.0.0) (3.1.6)\n",
            "Requirement already satisfied: fsspec in /usr/local/lib/python3.11/dist-packages (from torch->shap-e==0.0.0) (2025.3.0)\n",
            "Collecting nvidia-cuda-nvrtc-cu12==12.4.127 (from torch->shap-e==0.0.0)\n",
            "  Downloading nvidia_cuda_nvrtc_cu12-12.4.127-py3-none-manylinux2014_x86_64.whl.metadata (1.5 kB)\n",
            "Collecting nvidia-cuda-runtime-cu12==12.4.127 (from torch->shap-e==0.0.0)\n",
            "  Downloading nvidia_cuda_runtime_cu12-12.4.127-py3-none-manylinux2014_x86_64.whl.metadata (1.5 kB)\n",
            "Collecting nvidia-cuda-cupti-cu12==12.4.127 (from torch->shap-e==0.0.0)\n",
            "  Downloading nvidia_cuda_cupti_cu12-12.4.127-py3-none-manylinux2014_x86_64.whl.metadata (1.6 kB)\n",
            "Collecting nvidia-cudnn-cu12==9.1.0.70 (from torch->shap-e==0.0.0)\n",
            "  Downloading nvidia_cudnn_cu12-9.1.0.70-py3-none-manylinux2014_x86_64.whl.metadata (1.6 kB)\n",
            "Collecting nvidia-cublas-cu12==12.4.5.8 (from torch->shap-e==0.0.0)\n",
            "  Downloading nvidia_cublas_cu12-12.4.5.8-py3-none-manylinux2014_x86_64.whl.metadata (1.5 kB)\n",
            "Collecting nvidia-cufft-cu12==11.2.1.3 (from torch->shap-e==0.0.0)\n",
            "  Downloading nvidia_cufft_cu12-11.2.1.3-py3-none-manylinux2014_x86_64.whl.metadata (1.5 kB)\n",
            "Collecting nvidia-curand-cu12==10.3.5.147 (from torch->shap-e==0.0.0)\n",
            "  Downloading nvidia_curand_cu12-10.3.5.147-py3-none-manylinux2014_x86_64.whl.metadata (1.5 kB)\n",
            "Collecting nvidia-cusolver-cu12==11.6.1.9 (from torch->shap-e==0.0.0)\n",
            "  Downloading nvidia_cusolver_cu12-11.6.1.9-py3-none-manylinux2014_x86_64.whl.metadata (1.6 kB)\n",
            "Collecting nvidia-cusparse-cu12==12.3.1.170 (from torch->shap-e==0.0.0)\n",
            "  Downloading nvidia_cusparse_cu12-12.3.1.170-py3-none-manylinux2014_x86_64.whl.metadata (1.6 kB)\n",
            "Requirement already satisfied: nvidia-cusparselt-cu12==0.6.2 in /usr/local/lib/python3.11/dist-packages (from torch->shap-e==0.0.0) (0.6.2)\n",
            "Requirement already satisfied: nvidia-nccl-cu12==2.21.5 in /usr/local/lib/python3.11/dist-packages (from torch->shap-e==0.0.0) (2.21.5)\n",
            "Requirement already satisfied: nvidia-nvtx-cu12==12.4.127 in /usr/local/lib/python3.11/dist-packages (from torch->shap-e==0.0.0) (12.4.127)\n",
            "Collecting nvidia-nvjitlink-cu12==12.4.127 (from torch->shap-e==0.0.0)\n",
            "  Downloading nvidia_nvjitlink_cu12-12.4.127-py3-none-manylinux2014_x86_64.whl.metadata (1.5 kB)\n",
            "Requirement already satisfied: triton==3.2.0 in /usr/local/lib/python3.11/dist-packages (from torch->shap-e==0.0.0) (3.2.0)\n",
            "Requirement already satisfied: sympy==1.13.1 in /usr/local/lib/python3.11/dist-packages (from torch->shap-e==0.0.0) (1.13.1)\n",
            "Requirement already satisfied: mpmath<1.4,>=1.1.0 in /usr/local/lib/python3.11/dist-packages (from sympy==1.13.1->torch->shap-e==0.0.0) (1.3.0)\n",
            "Requirement already satisfied: six>=1.5 in /usr/local/lib/python3.11/dist-packages (from python-dateutil>=2.7->matplotlib->shap-e==0.0.0) (1.17.0)\n",
            "Requirement already satisfied: wcwidth in /usr/local/lib/python3.11/dist-packages (from ftfy->clip@ git+https://github.com/openai/CLIP.git->shap-e==0.0.0) (0.2.13)\n",
            "Requirement already satisfied: MarkupSafe>=2.0 in /usr/local/lib/python3.11/dist-packages (from jinja2->torch->shap-e==0.0.0) (3.0.2)\n",
            "Downloading nvidia_cublas_cu12-12.4.5.8-py3-none-manylinux2014_x86_64.whl (363.4 MB)\n",
            "\u001b[2K   \u001b[90m━━━━━━━━━━━━━━━━━━━━━━━━━━━━━━━━━━━━━━━━\u001b[0m \u001b[32m363.4/363.4 MB\u001b[0m \u001b[31m3.5 MB/s\u001b[0m eta \u001b[36m0:00:00\u001b[0m\n",
            "\u001b[?25hDownloading nvidia_cuda_cupti_cu12-12.4.127-py3-none-manylinux2014_x86_64.whl (13.8 MB)\n",
            "\u001b[2K   \u001b[90m━━━━━━━━━━━━━━━━━━━━━━━━━━━━━━━━━━━━━━━━\u001b[0m \u001b[32m13.8/13.8 MB\u001b[0m \u001b[31m86.0 MB/s\u001b[0m eta \u001b[36m0:00:00\u001b[0m\n",
            "\u001b[?25hDownloading nvidia_cuda_nvrtc_cu12-12.4.127-py3-none-manylinux2014_x86_64.whl (24.6 MB)\n",
            "\u001b[2K   \u001b[90m━━━━━━━━━━━━━━━━━━━━━━━━━━━━━━━━━━━━━━━━\u001b[0m \u001b[32m24.6/24.6 MB\u001b[0m \u001b[31m72.7 MB/s\u001b[0m eta \u001b[36m0:00:00\u001b[0m\n",
            "\u001b[?25hDownloading nvidia_cuda_runtime_cu12-12.4.127-py3-none-manylinux2014_x86_64.whl (883 kB)\n",
            "\u001b[2K   \u001b[90m━━━━━━━━━━━━━━━━━━━━━━━━━━━━━━━━━━━━━━━━\u001b[0m \u001b[32m883.7/883.7 kB\u001b[0m \u001b[31m52.7 MB/s\u001b[0m eta \u001b[36m0:00:00\u001b[0m\n",
            "\u001b[?25hDownloading nvidia_cudnn_cu12-9.1.0.70-py3-none-manylinux2014_x86_64.whl (664.8 MB)\n",
            "\u001b[2K   \u001b[90m━━━━━━━━━━━━━━━━━━━━━━━━━━━━━━━━━━━━━━━━\u001b[0m \u001b[32m664.8/664.8 MB\u001b[0m \u001b[31m2.9 MB/s\u001b[0m eta \u001b[36m0:00:00\u001b[0m\n",
            "\u001b[?25hDownloading nvidia_cufft_cu12-11.2.1.3-py3-none-manylinux2014_x86_64.whl (211.5 MB)\n",
            "\u001b[2K   \u001b[90m━━━━━━━━━━━━━━━━━━━━━━━━━━━━━━━━━━━━━━━━\u001b[0m \u001b[32m211.5/211.5 MB\u001b[0m \u001b[31m6.5 MB/s\u001b[0m eta \u001b[36m0:00:00\u001b[0m\n",
            "\u001b[?25hDownloading nvidia_curand_cu12-10.3.5.147-py3-none-manylinux2014_x86_64.whl (56.3 MB)\n",
            "\u001b[2K   \u001b[90m━━━━━━━━━━━━━━━━━━━━━━━━━━━━━━━━━━━━━━━━\u001b[0m \u001b[32m56.3/56.3 MB\u001b[0m \u001b[31m16.9 MB/s\u001b[0m eta \u001b[36m0:00:00\u001b[0m\n",
            "\u001b[?25hDownloading nvidia_cusolver_cu12-11.6.1.9-py3-none-manylinux2014_x86_64.whl (127.9 MB)\n",
            "\u001b[2K   \u001b[90m━━━━━━━━━━━━━━━━━━━━━━━━━━━━━━━━━━━━━━━━\u001b[0m \u001b[32m127.9/127.9 MB\u001b[0m \u001b[31m7.3 MB/s\u001b[0m eta \u001b[36m0:00:00\u001b[0m\n",
            "\u001b[?25hDownloading nvidia_cusparse_cu12-12.3.1.170-py3-none-manylinux2014_x86_64.whl (207.5 MB)\n",
            "\u001b[2K   \u001b[90m━━━━━━━━━━━━━━━━━━━━━━━━━━━━━━━━━━━━━━━━\u001b[0m \u001b[32m207.5/207.5 MB\u001b[0m \u001b[31m6.0 MB/s\u001b[0m eta \u001b[36m0:00:00\u001b[0m\n",
            "\u001b[?25hDownloading nvidia_nvjitlink_cu12-12.4.127-py3-none-manylinux2014_x86_64.whl (21.1 MB)\n",
            "\u001b[2K   \u001b[90m━━━━━━━━━━━━━━━━━━━━━━━━━━━━━━━━━━━━━━━━\u001b[0m \u001b[32m21.1/21.1 MB\u001b[0m \u001b[31m100.7 MB/s\u001b[0m eta \u001b[36m0:00:00\u001b[0m\n",
            "\u001b[?25hDownloading ftfy-6.3.1-py3-none-any.whl (44 kB)\n",
            "\u001b[2K   \u001b[90m━━━━━━━━━━━━━━━━━━━━━━━━━━━━━━━━━━━━━━━━\u001b[0m \u001b[32m44.8/44.8 kB\u001b[0m \u001b[31m4.2 MB/s\u001b[0m eta \u001b[36m0:00:00\u001b[0m\n",
            "\u001b[?25hBuilding wheels for collected packages: clip, fire\n",
            "  Building wheel for clip (setup.py) ... \u001b[?25l\u001b[?25hdone\n",
            "  Created wheel for clip: filename=clip-1.0-py3-none-any.whl size=1369490 sha256=47ecb8893e08d29dde86843e5c26e3251c1a48b2fcd110e37abd37d491460351\n",
            "  Stored in directory: /tmp/pip-ephem-wheel-cache-fy7ji91f/wheels/3f/7c/a4/9b490845988bf7a4db33674d52f709f088f64392063872eb9a\n",
            "  Building wheel for fire (setup.py) ... \u001b[?25l\u001b[?25hdone\n",
            "  Created wheel for fire: filename=fire-0.7.0-py3-none-any.whl size=114249 sha256=eb3368e34e630d586e4c28d4062deb61629424a0eda360404ab353c9a1085ed5\n",
            "  Stored in directory: /root/.cache/pip/wheels/46/54/24/1624fd5b8674eb1188623f7e8e17cdf7c0f6c24b609dfb8a89\n",
            "Successfully built clip fire\n",
            "Installing collected packages: nvidia-nvjitlink-cu12, nvidia-curand-cu12, nvidia-cufft-cu12, nvidia-cuda-runtime-cu12, nvidia-cuda-nvrtc-cu12, nvidia-cuda-cupti-cu12, nvidia-cublas-cu12, ftfy, fire, nvidia-cusparse-cu12, nvidia-cudnn-cu12, nvidia-cusolver-cu12, clip, shap-e\n",
            "  Attempting uninstall: nvidia-nvjitlink-cu12\n",
            "    Found existing installation: nvidia-nvjitlink-cu12 12.5.82\n",
            "    Uninstalling nvidia-nvjitlink-cu12-12.5.82:\n",
            "      Successfully uninstalled nvidia-nvjitlink-cu12-12.5.82\n",
            "  Attempting uninstall: nvidia-curand-cu12\n",
            "    Found existing installation: nvidia-curand-cu12 10.3.6.82\n",
            "    Uninstalling nvidia-curand-cu12-10.3.6.82:\n",
            "      Successfully uninstalled nvidia-curand-cu12-10.3.6.82\n",
            "  Attempting uninstall: nvidia-cufft-cu12\n",
            "    Found existing installation: nvidia-cufft-cu12 11.2.3.61\n",
            "    Uninstalling nvidia-cufft-cu12-11.2.3.61:\n",
            "      Successfully uninstalled nvidia-cufft-cu12-11.2.3.61\n",
            "  Attempting uninstall: nvidia-cuda-runtime-cu12\n",
            "    Found existing installation: nvidia-cuda-runtime-cu12 12.5.82\n",
            "    Uninstalling nvidia-cuda-runtime-cu12-12.5.82:\n",
            "      Successfully uninstalled nvidia-cuda-runtime-cu12-12.5.82\n",
            "  Attempting uninstall: nvidia-cuda-nvrtc-cu12\n",
            "    Found existing installation: nvidia-cuda-nvrtc-cu12 12.5.82\n",
            "    Uninstalling nvidia-cuda-nvrtc-cu12-12.5.82:\n",
            "      Successfully uninstalled nvidia-cuda-nvrtc-cu12-12.5.82\n",
            "  Attempting uninstall: nvidia-cuda-cupti-cu12\n",
            "    Found existing installation: nvidia-cuda-cupti-cu12 12.5.82\n",
            "    Uninstalling nvidia-cuda-cupti-cu12-12.5.82:\n",
            "      Successfully uninstalled nvidia-cuda-cupti-cu12-12.5.82\n",
            "  Attempting uninstall: nvidia-cublas-cu12\n",
            "    Found existing installation: nvidia-cublas-cu12 12.5.3.2\n",
            "    Uninstalling nvidia-cublas-cu12-12.5.3.2:\n",
            "      Successfully uninstalled nvidia-cublas-cu12-12.5.3.2\n",
            "  Attempting uninstall: nvidia-cusparse-cu12\n",
            "    Found existing installation: nvidia-cusparse-cu12 12.5.1.3\n",
            "    Uninstalling nvidia-cusparse-cu12-12.5.1.3:\n",
            "      Successfully uninstalled nvidia-cusparse-cu12-12.5.1.3\n",
            "  Attempting uninstall: nvidia-cudnn-cu12\n",
            "    Found existing installation: nvidia-cudnn-cu12 9.3.0.75\n",
            "    Uninstalling nvidia-cudnn-cu12-9.3.0.75:\n",
            "      Successfully uninstalled nvidia-cudnn-cu12-9.3.0.75\n",
            "  Attempting uninstall: nvidia-cusolver-cu12\n",
            "    Found existing installation: nvidia-cusolver-cu12 11.6.3.83\n",
            "    Uninstalling nvidia-cusolver-cu12-11.6.3.83:\n",
            "      Successfully uninstalled nvidia-cusolver-cu12-11.6.3.83\n",
            "  Running setup.py develop for shap-e\n",
            "Successfully installed clip-1.0 fire-0.7.0 ftfy-6.3.1 nvidia-cublas-cu12-12.4.5.8 nvidia-cuda-cupti-cu12-12.4.127 nvidia-cuda-nvrtc-cu12-12.4.127 nvidia-cuda-runtime-cu12-12.4.127 nvidia-cudnn-cu12-9.1.0.70 nvidia-cufft-cu12-11.2.1.3 nvidia-curand-cu12-10.3.5.147 nvidia-cusolver-cu12-11.6.1.9 nvidia-cusparse-cu12-12.3.1.170 nvidia-nvjitlink-cu12-12.4.127 shap-e-0.0.0\n"
          ]
        }
      ]
    },
    {
      "cell_type": "code",
      "source": [
        "import torch\n",
        "\n",
        "from shap_e.diffusion.sample import sample_latents\n",
        "from shap_e.diffusion.gaussian_diffusion import diffusion_from_config\n",
        "from shap_e.models.download import load_model, load_config\n",
        "from shap_e.util.notebooks import create_pan_cameras, decode_latent_images, gif_widget"
      ],
      "metadata": {
        "id": "npXUmSFEkYid"
      },
      "execution_count": 6,
      "outputs": []
    },
    {
      "cell_type": "code",
      "source": [
        "device = torch.device('cuda' if torch.cuda.is_available() else 'cpu')"
      ],
      "metadata": {
        "id": "yCUP-0rJkfS3"
      },
      "execution_count": 7,
      "outputs": []
    },
    {
      "cell_type": "code",
      "source": [
        "xm = load_model('transmitter', device=device)\n",
        "model = load_model('text300M', device=device)\n",
        "diffusion = diffusion_from_config(load_config('diffusion'))"
      ],
      "metadata": {
        "colab": {
          "base_uri": "https://localhost:8080/",
          "height": 265,
          "referenced_widgets": [
            "a9b3964c42c04715b914c67fff5499f2",
            "84641d419b20415282e9431d19a1b71a",
            "7b0d609f6c5041b5a11f748dd5dc5756",
            "9e96eff852b7472088ff6fefdd7e06c7",
            "ecb851c865514f1dbad0a7131df38ba7",
            "ef68d26daea94e488daf0b7ddd7d68c9",
            "e1ac8fb306894e1f92310bb795805861",
            "109cb9cbeae44eda894550edbc292db2",
            "94d66b8ab1c84b39a6cd97f9fa224a45",
            "7bda3dda781e4c4ea06074d76102766f",
            "03b26e86efab402fb7f41d3e57be6953",
            "fbcfdf16512543878cb0ba5d6edbc0e6",
            "520d3be4ced94aeb8589fbcfa36323f6",
            "4d9092fc3e5c4b2e96850d68265dc952",
            "9013954cde52444c8e59a8fc297f98c3",
            "4d3d661dde35413aa27f6ce040ac18fe",
            "06f1e3b69cfc43159bcf747b2b802df9",
            "b977a6289b70423087ed9060ccef81cf",
            "98dd1b6ab49e4673a907126e0251f1e1",
            "046e6eaebb4346de820a7f432522bfe6",
            "824b8ab46bbb4767872b0b83e10a1c1e",
            "a7207280854244beb1ca007caf34e790"
          ]
        },
        "id": "4YqvgU4ekgRO",
        "outputId": "0d8e13c7-9d48-4653-911a-f546da9808f7"
      },
      "execution_count": 8,
      "outputs": [
        {
          "output_type": "stream",
          "name": "stderr",
          "text": [
            "/content/shap-e/shap_e/models/nn/checkpoint.py:31: FutureWarning: `torch.cuda.amp.custom_fwd(args...)` is deprecated. Please use `torch.amp.custom_fwd(args..., device_type='cuda')` instead.\n",
            "  @custom_fwd\n",
            "/content/shap-e/shap_e/models/nn/checkpoint.py:43: FutureWarning: `torch.cuda.amp.custom_bwd(args...)` is deprecated. Please use `torch.amp.custom_bwd(args..., device_type='cuda')` instead.\n",
            "  @custom_bwd\n",
            "/content/shap-e/shap_e/models/nn/checkpoint.py:61: FutureWarning: `torch.cuda.amp.custom_fwd(args...)` is deprecated. Please use `torch.amp.custom_fwd(args..., device_type='cuda')` instead.\n",
            "  @custom_fwd\n",
            "/content/shap-e/shap_e/models/nn/checkpoint.py:86: FutureWarning: `torch.cuda.amp.custom_bwd(args...)` is deprecated. Please use `torch.amp.custom_bwd(args..., device_type='cuda')` instead.\n",
            "  @custom_bwd\n"
          ]
        },
        {
          "output_type": "display_data",
          "data": {
            "text/plain": [
              "  0%|          | 0.00/1.78G [00:00<?, ?iB/s]"
            ],
            "application/vnd.jupyter.widget-view+json": {
              "version_major": 2,
              "version_minor": 0,
              "model_id": "a9b3964c42c04715b914c67fff5499f2"
            }
          },
          "metadata": {}
        },
        {
          "output_type": "stream",
          "name": "stderr",
          "text": [
            "100%|███████████████████████████████████████| 890M/890M [01:12<00:00, 12.8MiB/s]\n"
          ]
        },
        {
          "output_type": "display_data",
          "data": {
            "text/plain": [
              "  0%|          | 0.00/1.26G [00:00<?, ?iB/s]"
            ],
            "application/vnd.jupyter.widget-view+json": {
              "version_major": 2,
              "version_minor": 0,
              "model_id": "fbcfdf16512543878cb0ba5d6edbc0e6"
            }
          },
          "metadata": {}
        }
      ]
    },
    {
      "cell_type": "code",
      "source": [
        "import torch\n",
        "print(torch.cuda.is_available())  # should be True\n",
        "print(torch.cuda.get_device_name(0))  # should say 'Tesla T4' or similar\n"
      ],
      "metadata": {
        "colab": {
          "base_uri": "https://localhost:8080/"
        },
        "id": "tkaOfF5Fr65S",
        "outputId": "2a6a8855-96c1-417e-ccae-814f9a538287"
      },
      "execution_count": 9,
      "outputs": [
        {
          "output_type": "stream",
          "name": "stdout",
          "text": [
            "True\n",
            "Tesla T4\n"
          ]
        }
      ]
    },
    {
      "cell_type": "code",
      "source": [
        "batch_size = 4\n",
        "guidance_scale = 15.0\n",
        "prompt = \"a pen\"\n",
        "\n",
        "latents = sample_latents(\n",
        "    batch_size=batch_size,\n",
        "    model=model,\n",
        "    diffusion=diffusion,\n",
        "    guidance_scale=guidance_scale,\n",
        "    model_kwargs=dict(texts=[prompt] * batch_size),\n",
        "    progress=True,\n",
        "    clip_denoised=True,\n",
        "    use_fp16=True,\n",
        "    use_karras=True,\n",
        "    karras_steps=64,\n",
        "    sigma_min=1e-3,\n",
        "    sigma_max=160,\n",
        "    s_churn=0,\n",
        ")"
      ],
      "metadata": {
        "colab": {
          "base_uri": "https://localhost:8080/",
          "height": 49,
          "referenced_widgets": [
            "c88f7a339ea1400688a20876830ddeed",
            "8b54bee1efd34701a9636144f9cd25fe",
            "71923354f4a344ee98e172869d8f417e",
            "d00cddc518444cef862ed2d049d49663",
            "d0d0e602702245feb47ea9cf3a0a8b4d",
            "7aaf01c2a0fa460daee9f05eaa6dfd72",
            "2fb900c731524f0fa5f2cb0558f8e442",
            "00b7533d02194af882d7fd271fea334f",
            "314815a94e0449ef8edade2376ea6b2e",
            "152638b322ff4636ac151dfd8da4925b",
            "c9ec80c55edf45f9aff48f9f855d1dc6"
          ]
        },
        "id": "lTlY1Vcekv7o",
        "outputId": "3eadea6d-d3f7-422b-8ec4-29124349a8ee"
      },
      "execution_count": 10,
      "outputs": [
        {
          "output_type": "display_data",
          "data": {
            "text/plain": [
              "  0%|          | 0/64 [00:00<?, ?it/s]"
            ],
            "application/vnd.jupyter.widget-view+json": {
              "version_major": 2,
              "version_minor": 0,
              "model_id": "c88f7a339ea1400688a20876830ddeed"
            }
          },
          "metadata": {}
        }
      ]
    },
    {
      "cell_type": "code",
      "source": [
        "render_mode = 'nerf' # you can change this to 'stf'\n",
        "size = 64 # this is the size of the renders; higher values take longer to render.\n",
        "\n",
        "cameras = create_pan_cameras(size, device)\n",
        "for i, latent in enumerate(latents):\n",
        "    images = decode_latent_images(xm, latent, cameras, rendering_mode=render_mode)\n",
        "    display(gif_widget(images))"
      ],
      "metadata": {
        "colab": {
          "base_uri": "https://localhost:8080/",
          "height": 324,
          "referenced_widgets": [
            "559299c0179b417cafe056e4a43969b7",
            "6a4df4d0434f44f9809a9045692c0eae",
            "5837b9dac66749efa878a8624ac260fb",
            "361b2b5d58944078b727f991847735e0",
            "21d0729590954dcabbff99aca7bef15b",
            "9e4646e94ae74ea4a11f8d145d670895",
            "96a4f5fbd8da4334a79e950f589cd4df",
            "b61dd12fe18b4ae09fa213008f6e06ff",
            "f148bc38623d4307a5f2470c55f66ce2",
            "6fe7bacedb6c4bc09ee0c123bae2717e",
            "b97be74be9644067b7012b9982ae57a0",
            "018c151d3f44454590c20dbaf788fca5"
          ]
        },
        "id": "DTu3v_IIkyb4",
        "outputId": "b55769cb-1b94-4560-da59-654a066cfcbf"
      },
      "execution_count": 11,
      "outputs": [
        {
          "output_type": "display_data",
          "data": {
            "text/plain": [
              "HTML(value='<img src=\"data:image/gif;base64,R0lGODlhQABAAIYAANnY2djX3tjX29fX19bW3dfW2tjW19fW19fV1tbV1tXU1dTS09…"
            ],
            "application/vnd.jupyter.widget-view+json": {
              "version_major": 2,
              "version_minor": 0,
              "model_id": "559299c0179b417cafe056e4a43969b7"
            }
          },
          "metadata": {}
        },
        {
          "output_type": "display_data",
          "data": {
            "text/plain": [
              "HTML(value='<img src=\"data:image/gif;base64,R0lGODlhQABAAIcAAMPI4LvB17K2y7G2yqetwaKnuqCnu5ujtpuyAJqxAJiuAJWtAJ…"
            ],
            "application/vnd.jupyter.widget-view+json": {
              "version_major": 2,
              "version_minor": 0,
              "model_id": "361b2b5d58944078b727f991847735e0"
            }
          },
          "metadata": {}
        },
        {
          "output_type": "display_data",
          "data": {
            "text/plain": [
              "HTML(value='<img src=\"data:image/gif;base64,R0lGODlhQABAAIYAAN+SgduPgLx/erN5dKqDeaR/c6l+eJt2h6J5cplzfZR3jIlykn…"
            ],
            "application/vnd.jupyter.widget-view+json": {
              "version_major": 2,
              "version_minor": 0,
              "model_id": "96a4f5fbd8da4334a79e950f589cd4df"
            }
          },
          "metadata": {}
        },
        {
          "output_type": "display_data",
          "data": {
            "text/plain": [
              "HTML(value='<img src=\"data:image/gif;base64,R0lGODlhQABAAIYAALm/yLi+x7e9xra9xra8xbS7xLC7wqy8ubS6wrK6w7G6w7C6wr…"
            ],
            "application/vnd.jupyter.widget-view+json": {
              "version_major": 2,
              "version_minor": 0,
              "model_id": "6fe7bacedb6c4bc09ee0c123bae2717e"
            }
          },
          "metadata": {}
        }
      ]
    },
    {
      "cell_type": "code",
      "source": [
        "# Example of saving the latents as meshes.\n",
        "from shap_e.util.notebooks import decode_latent_mesh\n",
        "\n",
        "for i, latent in enumerate(latents):\n",
        "    t = decode_latent_mesh(xm, latent).tri_mesh()\n",
        "    with open(f'example_mesh_{i}.ply', 'wb') as f:\n",
        "        t.write_ply(f)\n",
        "    with open(f'example_mesh_{i}.obj', 'w') as f:\n",
        "        t.write_obj(f)"
      ],
      "metadata": {
        "colab": {
          "base_uri": "https://localhost:8080/"
        },
        "id": "dgwWDOuQkzfm",
        "outputId": "34f4b6c0-3ae8-4e93-82ea-1fce96855060"
      },
      "execution_count": 12,
      "outputs": [
        {
          "output_type": "stream",
          "name": "stderr",
          "text": [
            "/content/shap-e/shap_e/models/stf/renderer.py:286: UserWarning: exception rendering with PyTorch3D: No module named 'pytorch3d'\n",
            "  warnings.warn(f\"exception rendering with PyTorch3D: {exc}\")\n",
            "/content/shap-e/shap_e/models/stf/renderer.py:287: UserWarning: falling back on native PyTorch renderer, which does not support full gradients\n",
            "  warnings.warn(\n"
          ]
        }
      ]
    },
    {
      "cell_type": "code",
      "metadata": {
        "id": "ea1c3fe2"
      },
      "source": [
        "# !pip install ftfy regex tqdm clip"
      ],
      "execution_count": 13,
      "outputs": []
    }
  ]
}